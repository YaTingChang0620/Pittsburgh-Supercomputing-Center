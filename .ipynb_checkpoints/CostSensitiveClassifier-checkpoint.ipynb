{
 "cells": [
  {
   "cell_type": "code",
   "execution_count": 1,
   "metadata": {},
   "outputs": [
    {
     "name": "stderr",
     "output_type": "stream",
     "text": [
      "DEBUG:weka.core.jvm:Adding bundled jars\n",
      "DEBUG:weka.core.jvm:Classpath=['/home/yating/.local/lib/python2.7/site-packages/javabridge/jars/rhino-1.7R4.jar', '/home/yating/.local/lib/python2.7/site-packages/javabridge/jars/runnablequeue.jar', '/home/yating/.local/lib/python2.7/site-packages/javabridge/jars/cpython.jar', '/home/yating/.local/lib/python2.7/site-packages/weka/lib/weka.jar', '/home/yating/.local/lib/python2.7/site-packages/weka/lib/python-weka-wrapper.jar']\n",
      "DEBUG:weka.core.jvm:MaxHeapSize=default\n",
      "DEBUG:weka.core.jvm:Package support disabled\n",
      "DEBUG:javabridge.jutil:Creating JVM object\n",
      "DEBUG:javabridge.jutil:Signalling caller\n"
     ]
    }
   ],
   "source": [
    "import weka.core.jvm as jvm\n",
    "import weka.core.converters as converters\n",
    "jvm.start()"
   ]
  },
  {
   "cell_type": "code",
   "execution_count": 3,
   "metadata": {},
   "outputs": [],
   "source": [
    "data_dir = 'Dataset/'\n",
    "train = converters.load_any_file(data_dir + 'training.arff')"
   ]
  },
  {
   "cell_type": "code",
   "execution_count": 5,
   "metadata": {},
   "outputs": [],
   "source": [
    "train.class_is_last"
   ]
  }
 ],
 "metadata": {
  "kernelspec": {
   "display_name": "Python 2",
   "language": "python",
   "name": "python2"
  },
  "language_info": {
   "codemirror_mode": {
    "name": "ipython",
    "version": 2
   },
   "file_extension": ".py",
   "mimetype": "text/x-python",
   "name": "python",
   "nbconvert_exporter": "python",
   "pygments_lexer": "ipython2",
   "version": "2.7.15"
  }
 },
 "nbformat": 4,
 "nbformat_minor": 2
}
