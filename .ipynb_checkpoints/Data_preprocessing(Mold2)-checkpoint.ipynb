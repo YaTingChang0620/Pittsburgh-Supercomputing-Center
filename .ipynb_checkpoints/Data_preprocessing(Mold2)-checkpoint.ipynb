{
 "cells": [
  {
   "cell_type": "code",
   "execution_count": 64,
   "metadata": {},
   "outputs": [],
   "source": [
    "import pandas as pd\n",
    "import glob \n",
    "import numpy as np\n",
    "from collections import Counter"
   ]
  },
  {
   "cell_type": "code",
   "execution_count": 50,
   "metadata": {},
   "outputs": [],
   "source": [
    "molecule_descriptor_files = []\n",
    "for file in glob.glob('./Dataset/2289/2289_inactive_part[0-9]*.txt'):\n",
    "    molecule_descriptor_files.append(file)"
   ]
  },
  {
   "cell_type": "code",
   "execution_count": 51,
   "metadata": {},
   "outputs": [
    {
     "name": "stderr",
     "output_type": "stream",
     "text": [
      "/opt/packages/python/Python-3.5.2-icc-mkl/lib/python3.5/site-packages/IPython/core/interactiveshell.py:2728: DtypeWarning: Columns (256,258) have mixed types. Specify dtype option on import or set low_memory=False.\n",
      "  interactivity=interactivity, compiler=compiler, result=result)\n"
     ]
    }
   ],
   "source": [
    "files = []\n",
    "for file in molecule_descriptor_files:\n",
    "    f = pd.read_table(file)\n",
    "    f['outcome'] = 'inactive'\n",
    "    files.append(f)"
   ]
  },
  {
   "cell_type": "markdown",
   "metadata": {},
   "source": [
    "#### Filter out false positive"
   ]
  },
  {
   "cell_type": "code",
   "execution_count": 52,
   "metadata": {},
   "outputs": [],
   "source": [
    "active = pd.read_table('./Dataset/2289/2289_active.txt',dtype=({'USER_ID':'str'}))\n",
    "active['outcome'] = 'active'"
   ]
  },
  {
   "cell_type": "code",
   "execution_count": 53,
   "metadata": {},
   "outputs": [],
   "source": [
    "active_588342 = pd.read_csv('./Dataset/active_588342.csv',dtype={'CID':'str'})"
   ]
  },
  {
   "cell_type": "code",
   "execution_count": 54,
   "metadata": {},
   "outputs": [],
   "source": [
    "false_positive_cid = list(set(active['USER_ID']) & set(active_588342['CID']))"
   ]
  },
  {
   "cell_type": "code",
   "execution_count": 55,
   "metadata": {},
   "outputs": [],
   "source": [
    "active = active[~active.USER_ID.isin(false_positive_cid)]"
   ]
  },
  {
   "cell_type": "markdown",
   "metadata": {},
   "source": [
    "#### Construct whole matrix"
   ]
  },
  {
   "cell_type": "code",
   "execution_count": 56,
   "metadata": {},
   "outputs": [
    {
     "name": "stdout",
     "output_type": "stream",
     "text": [
      "(302630, 780)\n"
     ]
    }
   ],
   "source": [
    "files.append(active)\n",
    "allfiles = pd.concat(files)"
   ]
  },
  {
   "cell_type": "code",
   "execution_count": 57,
   "metadata": {},
   "outputs": [],
   "source": [
    "allfiles = allfiles.rename({'USER_ID':'CID'},axis='columns')\n",
    "allfiles = allfiles.iloc[:,1:]"
   ]
  },
  {
   "cell_type": "code",
   "execution_count": 62,
   "metadata": {},
   "outputs": [
    {
     "name": "stdout",
     "output_type": "stream",
     "text": [
      "Counter({'inactive': 301747, 'active': 883})\n",
      "(302630, 779)\n"
     ]
    }
   ],
   "source": [
    "print(Counter(allfiles['outcome']))\n",
    "print(allfiles.shape)"
   ]
  },
  {
   "cell_type": "markdown",
   "metadata": {},
   "source": [
    "#### Remove attribution without variation "
   ]
  },
  {
   "cell_type": "code",
   "execution_count": 74,
   "metadata": {},
   "outputs": [],
   "source": [
    "allfiles[['D255','D257']] = allfiles[['D255','D257']].apply(pd.to_numeric)"
   ]
  },
  {
   "cell_type": "code",
   "execution_count": 76,
   "metadata": {
    "scrolled": false
   },
   "outputs": [],
   "source": [
    "remove_col_ind = []\n",
    "for col in range(1,allfiles.shape[1]-1):\n",
    "#     print(allfiles.columns[col])\n",
    "    colsum = sum(allfiles.iloc[:,col])\n",
    "    if colsum == 0 or colsum == allfiles.shape[0]:\n",
    "        remove_col_ind.append(col)"
   ]
  },
  {
   "cell_type": "code",
   "execution_count": 84,
   "metadata": {},
   "outputs": [
    {
     "name": "stdout",
     "output_type": "stream",
     "text": [
      "(302630, 650)\n"
     ]
    }
   ],
   "source": [
    "keep = np.ones(allfiles.shape[1]).astype('bool')\n",
    "keep[remove_col_ind] = False\n",
    "allfiles = allfiles.iloc[:,keep]\n",
    "print(allfiles.shape)"
   ]
  }
 ],
 "metadata": {
  "kernelspec": {
   "display_name": "Python 3",
   "language": "python",
   "name": "python3"
  },
  "language_info": {
   "codemirror_mode": {
    "name": "ipython",
    "version": 3
   },
   "file_extension": ".py",
   "mimetype": "text/x-python",
   "name": "python",
   "nbconvert_exporter": "python",
   "pygments_lexer": "ipython3",
   "version": "3.5.2"
  }
 },
 "nbformat": 4,
 "nbformat_minor": 2
}
