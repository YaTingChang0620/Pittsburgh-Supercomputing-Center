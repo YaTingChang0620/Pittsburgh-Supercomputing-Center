{
 "cells": [
  {
   "cell_type": "markdown",
   "metadata": {},
   "source": [
    "##### Source:\n",
    "imblearn Documentation\n",
    "- https://github.com/scikit-learn-contrib/imbalanced-learn \n",
    "- http://scikit-learn.org/stable/auto_examples/model_selection/plot_precision_recall.html"
   ]
  },
  {
   "cell_type": "code",
   "execution_count": 36,
   "metadata": {},
   "outputs": [],
   "source": [
    "import zipfile\n",
    "import pandas as pd\n",
    "import numpy as np\n",
    "import glob\n",
    "from scipy import sparse\n",
    "from sklearn.model_selection import train_test_split\n",
    "from collections import Counter\n",
    "from sklearn.ensemble import RandomForestClassifier\n",
    "from sklearn.ensemble import GradientBoostingClassifier\n",
    "from sklearn.model_selection import KFold\n",
    "from sklearn.svm import SVC\n",
    "from sklearn.metrics import accuracy_score\n",
    "from sklearn.metrics import precision_score\n",
    "from sklearn.metrics import confusion_matrix\n",
    "import matplotlib.pyplot as plt\n",
    "from tempfile import TemporaryFile\n",
    "%matplotlib inline"
   ]
  },
  {
   "cell_type": "code",
   "execution_count": 3,
   "metadata": {},
   "outputs": [],
   "source": [
    "molecule_descriptor_files = []\n",
    "for file in glob.glob('./Dataset/AID_2289_descriptors_part[0-9]*.csv'):\n",
    "    molecule_descriptor_files.append(file)"
   ]
  },
  {
   "cell_type": "markdown",
   "metadata": {},
   "source": [
    "### Drug Bank"
   ]
  },
  {
   "cell_type": "code",
   "execution_count": 4,
   "metadata": {},
   "outputs": [],
   "source": [
    "# drug_link = pd.read_csv('./Dataset/drug_links.csv',dtype={'PubChem Compound ID':'str'})"
   ]
  },
  {
   "cell_type": "code",
   "execution_count": 5,
   "metadata": {},
   "outputs": [],
   "source": [
    "# drug_link = drug_link.dropna(subset=['PubChem Compound ID'])"
   ]
  },
  {
   "cell_type": "code",
   "execution_count": 6,
   "metadata": {},
   "outputs": [],
   "source": [
    "# drug_map = dict(zip(drug_link['PubChem Compound ID'],drug_link['Name']))"
   ]
  },
  {
   "cell_type": "markdown",
   "metadata": {},
   "source": [
    "### Prepare training data"
   ]
  },
  {
   "cell_type": "markdown",
   "metadata": {},
   "source": [
    "#### Use counter-screen (AID: 588342) to filter out false positive"
   ]
  },
  {
   "cell_type": "markdown",
   "metadata": {},
   "source": [
    "Counter-screen: A screen performed in parallel with or after the primary screen. The assay used in the counter-screen is developed to identify compounds that have the potential to interfere with the assay used in the primary screen (the primary assay)."
   ]
  },
  {
   "cell_type": "markdown",
   "metadata": {},
   "source": [
    "- Identify the overlapping CID between 588342 active and 2289 active: 2,399 molecules"
   ]
  },
  {
   "cell_type": "code",
   "execution_count": 7,
   "metadata": {},
   "outputs": [],
   "source": [
    "active_588342 = pd.read_csv('./Dataset/active_588342.csv',dtype={'CID':'str'})\n",
    "active_2289 = pd.read_csv('./Dataset/active_2289.csv',dtype={'CID':'str'})"
   ]
  },
  {
   "cell_type": "code",
   "execution_count": 8,
   "metadata": {},
   "outputs": [],
   "source": [
    "false_positive_cid = list(set(active_2289['CID']) & set(active_588342['CID']))"
   ]
  },
  {
   "cell_type": "code",
   "execution_count": 9,
   "metadata": {},
   "outputs": [
    {
     "data": {
      "text/plain": [
       "2399"
      ]
     },
     "execution_count": 9,
     "metadata": {},
     "output_type": "execute_result"
    }
   ],
   "source": [
    "len(false_positive_cid)"
   ]
  },
  {
   "cell_type": "code",
   "execution_count": 10,
   "metadata": {},
   "outputs": [],
   "source": [
    "# false_positive_cid_2 = list(set(active_2289['CID']) & set(inactive_588342['CID']))\n",
    "# len(false_positive_cid_2)"
   ]
  },
  {
   "cell_type": "code",
   "execution_count": 11,
   "metadata": {},
   "outputs": [],
   "source": [
    "# only first file contains active cases\n",
    "molecule_matrix = pd.read_csv(molecule_descriptor_files[9],dtype={'CID':'str','SID':'str'})\n",
    "features = molecule_matrix.columns[2:181] # feature names except the first column (molecule ID)\n",
    "# molecule_matrix = np.array(molecule_matrix.dropna(axis=0))"
   ]
  },
  {
   "cell_type": "code",
   "execution_count": 12,
   "metadata": {},
   "outputs": [],
   "source": [
    "filterout_index = []\n",
    "for idx in range(molecule_matrix.shape[0]):\n",
    "    cid = molecule_matrix.iloc[idx,:]['CID']\n",
    "    if cid in false_positive_cid:\n",
    "        filterout_index.append(idx)"
   ]
  },
  {
   "cell_type": "code",
   "execution_count": 13,
   "metadata": {},
   "outputs": [],
   "source": [
    "ind = np.ones(molecule_matrix.shape[0]).astype('bool')\n",
    "ind[filterout_index] = False\n",
    "molecule_matrix = molecule_matrix.iloc[ind,:]\n",
    "molecule_matrix = np.array(molecule_matrix)"
   ]
  },
  {
   "cell_type": "code",
   "execution_count": 14,
   "metadata": {},
   "outputs": [],
   "source": [
    "for file in molecule_descriptor_files[:9]:\n",
    "    f = pd.read_csv(file,dtype={'CID':'str','SID':'str'})\n",
    "    f = np.array(f.dropna(axis=0)) # drop rows with NA \n",
    "    molecule_matrix = np.vstack((molecule_matrix,f))"
   ]
  },
  {
   "cell_type": "code",
   "execution_count": 15,
   "metadata": {},
   "outputs": [],
   "source": [
    "label = molecule_matrix[:,molecule_matrix.shape[1]-1]\n",
    "label[label=='active']=1\n",
    "label[label=='inactive']=0\n",
    "label = label.astype(int)"
   ]
  },
  {
   "cell_type": "code",
   "execution_count": 16,
   "metadata": {},
   "outputs": [
    {
     "name": "stdout",
     "output_type": "stream",
     "text": [
      "Counter({0: 304501, 1: 884})\n"
     ]
    }
   ],
   "source": [
    "print(Counter(label))"
   ]
  },
  {
   "cell_type": "code",
   "execution_count": 17,
   "metadata": {},
   "outputs": [],
   "source": [
    "moleculeCID = molecule_matrix[:,0]"
   ]
  },
  {
   "cell_type": "markdown",
   "metadata": {},
   "source": [
    "#### Construct the whole matrix"
   ]
  },
  {
   "cell_type": "code",
   "execution_count": 18,
   "metadata": {},
   "outputs": [
    {
     "data": {
      "text/plain": [
       "array([['329167', '843278', 0, ..., 0, 1, 1],\n",
       "       ['421162', '844850', 0, ..., 1, 1, 1],\n",
       "       ['647744', '845402', 0, ..., 0, 0, 1],\n",
       "       ..., \n",
       "       ['2912871', '7978128', 0, ..., 0, 2, 0],\n",
       "       ['740861', '7978129', 0, ..., 0, 1, 0],\n",
       "       ['5402140', '7978130', 0, ..., 0, 3, 0]], dtype=object)"
      ]
     },
     "execution_count": 18,
     "metadata": {},
     "output_type": "execute_result"
    }
   ],
   "source": [
    "molecule_matrix"
   ]
  },
  {
   "cell_type": "code",
   "execution_count": 19,
   "metadata": {},
   "outputs": [],
   "source": [
    "molecule_matrix = molecule_matrix[:,2:181]"
   ]
  },
  {
   "cell_type": "code",
   "execution_count": 20,
   "metadata": {},
   "outputs": [
    {
     "data": {
      "text/plain": [
       "(305385, 179)"
      ]
     },
     "execution_count": 20,
     "metadata": {},
     "output_type": "execute_result"
    }
   ],
   "source": [
    "molecule_matrix.shape"
   ]
  },
  {
   "cell_type": "code",
   "execution_count": 21,
   "metadata": {},
   "outputs": [],
   "source": [
    "molecule_matrix = molecule_matrix.astype('float')"
   ]
  },
  {
   "cell_type": "code",
   "execution_count": 22,
   "metadata": {},
   "outputs": [
    {
     "name": "stdout",
     "output_type": "stream",
     "text": [
      "Number of molecule ID: 305385\n",
      "Number of label: 305385\n",
      "Number of features: 179\n",
      "Shape: (305385, 179)\n"
     ]
    }
   ],
   "source": [
    "print('Number of molecule ID:',len(moleculeCID))\n",
    "print('Number of label:',len(label))\n",
    "print('Number of features:',len(features))\n",
    "print('Shape:',molecule_matrix.shape)"
   ]
  },
  {
   "cell_type": "markdown",
   "metadata": {},
   "source": [
    "#### Remove attributes of no variation"
   ]
  },
  {
   "cell_type": "code",
   "execution_count": 23,
   "metadata": {},
   "outputs": [],
   "source": [
    "remove_col = []\n",
    "for col in range(molecule_matrix.shape[1]):\n",
    "    temp_sum = np.sum(molecule_matrix[:,col])\n",
    "    if temp_sum == 0 or temp_sum == molecule_matrix.shape[0]:\n",
    "        remove_col.append(col)"
   ]
  },
  {
   "cell_type": "code",
   "execution_count": 24,
   "metadata": {},
   "outputs": [],
   "source": [
    "remove = np.ones(molecule_matrix.shape[1]).astype('bool')\n",
    "remove[np.array(remove_col)] = False\n",
    "molecule_matrix = molecule_matrix[:,remove]"
   ]
  },
  {
   "cell_type": "code",
   "execution_count": 25,
   "metadata": {},
   "outputs": [
    {
     "name": "stdout",
     "output_type": "stream",
     "text": [
      "After removing attributes without any variation: (305385, 158)\n"
     ]
    }
   ],
   "source": [
    "print('After removing attributes without any variation:', molecule_matrix.shape)"
   ]
  },
  {
   "cell_type": "markdown",
   "metadata": {},
   "source": [
    "### Split the train and test data"
   ]
  },
  {
   "cell_type": "code",
   "execution_count": 26,
   "metadata": {},
   "outputs": [],
   "source": [
    "# x_train,x_test,y_train,y_test = train_test_split(molecule_matrix,label,test_size=0.2)"
   ]
  },
  {
   "cell_type": "code",
   "execution_count": 27,
   "metadata": {},
   "outputs": [],
   "source": [
    "# print(x_train.shape)\n",
    "# print(y_train.shape)\n",
    "# print(x_test.shape)\n",
    "# print(y_test.shape)"
   ]
  },
  {
   "cell_type": "code",
   "execution_count": 28,
   "metadata": {},
   "outputs": [],
   "source": [
    "# ytrain = dict(Counter(y_train))\n",
    "# ytest = dict(Counter(y_test))"
   ]
  },
  {
   "cell_type": "code",
   "execution_count": 29,
   "metadata": {},
   "outputs": [],
   "source": [
    "# print('active ratio in training:', ytrain[1]/(ytrain[0]+ytrain[1]))\n",
    "# print('active ratio in test:', ytest[1]/(ytest[0]+ytest[1]))"
   ]
  },
  {
   "cell_type": "code",
   "execution_count": 30,
   "metadata": {},
   "outputs": [],
   "source": [
    "# test_idx = np.random.permutation(molecule_matrix.shape[0])[:int(molecule_matrix.shape[0]*0.2)]\n",
    "# mask = np.ones(molecule_matrix.shape[0]).astype('bool')\n",
    "# mask[test_idx] = False\n",
    "# train = molecule_matrix[mask,:]\n",
    "# test = molecule_matrix[test_idx,:] "
   ]
  },
  {
   "cell_type": "code",
   "execution_count": 31,
   "metadata": {},
   "outputs": [],
   "source": [
    "# train_pd = pd.DataFrame(train)\n",
    "# test_pd = pd.DataFrame(test)"
   ]
  },
  {
   "cell_type": "code",
   "execution_count": 32,
   "metadata": {},
   "outputs": [],
   "source": [
    "# train_pd.to_csv('training.csv',index=False,index_label=False)\n",
    "# test_pd.to_csv('test.csv',index=False,index_label=False)"
   ]
  },
  {
   "cell_type": "markdown",
   "metadata": {},
   "source": [
    "#### Export files for cost sensitive classifier"
   ]
  },
  {
   "cell_type": "code",
   "execution_count": 33,
   "metadata": {},
   "outputs": [],
   "source": [
    "# import csv2arff"
   ]
  },
  {
   "cell_type": "code",
   "execution_count": 34,
   "metadata": {},
   "outputs": [],
   "source": [
    "# %%bash\n",
    "# csv2arff training.csv training.arff\n",
    "# csv2arff test.csv test.arff\n",
    "# np.save('molecule_matrix.npy',molecule_matrix)\n",
    "# np.save('label.npy',label)\n",
    "# np.save('molecule_CID',moleculeCID)\n",
    "# np.save('feature',features)"
   ]
  },
  {
   "cell_type": "markdown",
   "metadata": {},
   "source": [
    "### Handling the imbalance"
   ]
  },
  {
   "cell_type": "markdown",
   "metadata": {},
   "source": [
    "##### 1). Under-sampling: Random majority under-sampling with replacement"
   ]
  },
  {
   "cell_type": "code",
   "execution_count": 37,
   "metadata": {},
   "outputs": [
    {
     "ename": "ValueError",
     "evalue": "With under-sampling methods, the number of samples in a class should be less or equal to the original number of samples. Originally, there is 884 samples and 3200 samples are asked.",
     "output_type": "error",
     "traceback": [
      "\u001b[0;31m---------------------------------------------------------------------------\u001b[0m",
      "\u001b[0;31mValueError\u001b[0m                                Traceback (most recent call last)",
      "\u001b[0;32m<timed exec>\u001b[0m in \u001b[0;36m<module>\u001b[0;34m()\u001b[0m\n",
      "\u001b[0;32m~/.local/lib/python3.5/site-packages/imblearn/base.py\u001b[0m in \u001b[0;36mfit_sample\u001b[0;34m(self, X, y)\u001b[0m\n\u001b[1;32m     86\u001b[0m         \"\"\"\n\u001b[1;32m     87\u001b[0m \u001b[0;34m\u001b[0m\u001b[0m\n\u001b[0;32m---> 88\u001b[0;31m         \u001b[0;32mreturn\u001b[0m \u001b[0mself\u001b[0m\u001b[0;34m.\u001b[0m\u001b[0mfit\u001b[0m\u001b[0;34m(\u001b[0m\u001b[0mX\u001b[0m\u001b[0;34m,\u001b[0m \u001b[0my\u001b[0m\u001b[0;34m)\u001b[0m\u001b[0;34m.\u001b[0m\u001b[0msample\u001b[0m\u001b[0;34m(\u001b[0m\u001b[0mX\u001b[0m\u001b[0;34m,\u001b[0m \u001b[0my\u001b[0m\u001b[0;34m)\u001b[0m\u001b[0;34m\u001b[0m\u001b[0m\n\u001b[0m\u001b[1;32m     89\u001b[0m \u001b[0;34m\u001b[0m\u001b[0m\n\u001b[1;32m     90\u001b[0m     \u001b[0;34m@\u001b[0m\u001b[0mabstractmethod\u001b[0m\u001b[0;34m\u001b[0m\u001b[0m\n",
      "\u001b[0;32m~/.local/lib/python3.5/site-packages/imblearn/base.py\u001b[0m in \u001b[0;36mfit\u001b[0;34m(self, X, y)\u001b[0m\n\u001b[1;32m    159\u001b[0m         \u001b[0mself\u001b[0m\u001b[0;34m.\u001b[0m\u001b[0mX_hash_\u001b[0m\u001b[0;34m,\u001b[0m \u001b[0mself\u001b[0m\u001b[0;34m.\u001b[0m\u001b[0my_hash_\u001b[0m \u001b[0;34m=\u001b[0m \u001b[0mhash_X_y\u001b[0m\u001b[0;34m(\u001b[0m\u001b[0mX\u001b[0m\u001b[0;34m,\u001b[0m \u001b[0my\u001b[0m\u001b[0;34m)\u001b[0m\u001b[0;34m\u001b[0m\u001b[0m\n\u001b[1;32m    160\u001b[0m         \u001b[0;31m# self.sampling_type is already checked in check_ratio\u001b[0m\u001b[0;34m\u001b[0m\u001b[0;34m\u001b[0m\u001b[0m\n\u001b[0;32m--> 161\u001b[0;31m         \u001b[0mself\u001b[0m\u001b[0;34m.\u001b[0m\u001b[0mratio_\u001b[0m \u001b[0;34m=\u001b[0m \u001b[0mcheck_ratio\u001b[0m\u001b[0;34m(\u001b[0m\u001b[0mself\u001b[0m\u001b[0;34m.\u001b[0m\u001b[0mratio\u001b[0m\u001b[0;34m,\u001b[0m \u001b[0my\u001b[0m\u001b[0;34m,\u001b[0m \u001b[0mself\u001b[0m\u001b[0;34m.\u001b[0m\u001b[0m_sampling_type\u001b[0m\u001b[0;34m)\u001b[0m\u001b[0;34m\u001b[0m\u001b[0m\n\u001b[0m\u001b[1;32m    162\u001b[0m \u001b[0;34m\u001b[0m\u001b[0m\n\u001b[1;32m    163\u001b[0m         \u001b[0;32mreturn\u001b[0m \u001b[0mself\u001b[0m\u001b[0;34m\u001b[0m\u001b[0m\n",
      "\u001b[0;32m~/.local/lib/python3.5/site-packages/imblearn/utils/validation.py\u001b[0m in \u001b[0;36mcheck_ratio\u001b[0;34m(ratio, y, sampling_type, **kwargs)\u001b[0m\n\u001b[1;32m    332\u001b[0m         \u001b[0;32mreturn\u001b[0m \u001b[0mRATIO_KIND\u001b[0m\u001b[0;34m[\u001b[0m\u001b[0mratio\u001b[0m\u001b[0;34m]\u001b[0m\u001b[0;34m(\u001b[0m\u001b[0my\u001b[0m\u001b[0;34m,\u001b[0m \u001b[0msampling_type\u001b[0m\u001b[0;34m)\u001b[0m\u001b[0;34m\u001b[0m\u001b[0m\n\u001b[1;32m    333\u001b[0m     \u001b[0;32melif\u001b[0m \u001b[0misinstance\u001b[0m\u001b[0;34m(\u001b[0m\u001b[0mratio\u001b[0m\u001b[0;34m,\u001b[0m \u001b[0mdict\u001b[0m\u001b[0;34m)\u001b[0m\u001b[0;34m:\u001b[0m\u001b[0;34m\u001b[0m\u001b[0m\n\u001b[0;32m--> 334\u001b[0;31m         \u001b[0;32mreturn\u001b[0m \u001b[0m_ratio_dict\u001b[0m\u001b[0;34m(\u001b[0m\u001b[0mratio\u001b[0m\u001b[0;34m,\u001b[0m \u001b[0my\u001b[0m\u001b[0;34m,\u001b[0m \u001b[0msampling_type\u001b[0m\u001b[0;34m)\u001b[0m\u001b[0;34m\u001b[0m\u001b[0m\n\u001b[0m\u001b[1;32m    335\u001b[0m     \u001b[0;32melif\u001b[0m \u001b[0misinstance\u001b[0m\u001b[0;34m(\u001b[0m\u001b[0mratio\u001b[0m\u001b[0;34m,\u001b[0m \u001b[0mReal\u001b[0m\u001b[0;34m)\u001b[0m\u001b[0;34m:\u001b[0m\u001b[0;34m\u001b[0m\u001b[0m\n\u001b[1;32m    336\u001b[0m         \u001b[0;32mif\u001b[0m \u001b[0mratio\u001b[0m \u001b[0;34m<=\u001b[0m \u001b[0;36m0\u001b[0m \u001b[0;32mor\u001b[0m \u001b[0mratio\u001b[0m \u001b[0;34m>\u001b[0m \u001b[0;36m1\u001b[0m\u001b[0;34m:\u001b[0m\u001b[0;34m\u001b[0m\u001b[0m\n",
      "\u001b[0;32m~/.local/lib/python3.5/site-packages/imblearn/utils/validation.py\u001b[0m in \u001b[0;36m_ratio_dict\u001b[0;34m(ratio, y, sampling_type)\u001b[0m\n\u001b[1;32m    232\u001b[0m                                  \u001b[0;34m\" Originally, there is {} samples and {}\"\u001b[0m\u001b[0;34m\u001b[0m\u001b[0m\n\u001b[1;32m    233\u001b[0m                                  \" samples are asked.\".format(\n\u001b[0;32m--> 234\u001b[0;31m                                      target_stats[class_sample], n_samples))\n\u001b[0m\u001b[1;32m    235\u001b[0m             \u001b[0mratio_\u001b[0m\u001b[0;34m[\u001b[0m\u001b[0mclass_sample\u001b[0m\u001b[0;34m]\u001b[0m \u001b[0;34m=\u001b[0m \u001b[0mn_samples\u001b[0m\u001b[0;34m\u001b[0m\u001b[0m\n\u001b[1;32m    236\u001b[0m     \u001b[0;32melif\u001b[0m \u001b[0msampling_type\u001b[0m \u001b[0;34m==\u001b[0m \u001b[0;34m'clean-sampling'\u001b[0m\u001b[0;34m:\u001b[0m\u001b[0;34m\u001b[0m\u001b[0m\n",
      "\u001b[0;31mValueError\u001b[0m: With under-sampling methods, the number of samples in a class should be less or equal to the original number of samples. Originally, there is 884 samples and 3200 samples are asked."
     ]
    }
   ],
   "source": [
    "%%time\n",
    "from imblearn.under_sampling import RandomUnderSampler\n",
    "\n",
    "ratio = {0:1000,1:884}\n",
    "molecule_matrix = sparse.csr_matrix(molecule_matrix)\n",
    "undersam = RandomUnderSampler(ratio=ratio,return_indices=True)\n",
    "X_resample,y_resample, idx_resample = undersam.fit_sample(molecule_matrix,label)\n",
    "\n",
    "# # # under-sampling\n",
    "# # # make use of k-means\n",
    "# # # source: http://contrib.scikit-learn.org/imbalanced-learn/stable/under_sampling.html\n",
    "# # from imblearn.under_sampling import ClusterCentroids\n",
    "# # cc = ClusterCentroids(random_state=0)\n",
    "# # X_resample, y_resample = cc.fit_sample(xtrain,y_train)\n",
    "# # print(sorted(Counter(y_resample).items()))"
   ]
  },
  {
   "cell_type": "code",
   "execution_count": 86,
   "metadata": {},
   "outputs": [],
   "source": [
    "# Counter(y_resample)"
   ]
  },
  {
   "cell_type": "code",
   "execution_count": 87,
   "metadata": {},
   "outputs": [],
   "source": [
    "# # remove attributes without any variation\n",
    "# remove = np.where(np.sum(x_train.toarray(),axis=0)==0)[0]\n",
    "# ind = np.ones(x_train.shape[1]).astype('bool')\n",
    "# ind[remove] = False\n",
    "# x_train = x_train[:,ind]\n",
    "# x_test = x_test[:,ind]"
   ]
  },
  {
   "cell_type": "code",
   "execution_count": 88,
   "metadata": {},
   "outputs": [],
   "source": [
    "# # active class ratio\n",
    "# y_tr = dict(Counter(y_train))\n",
    "# print(y_tr[1]/(y_tr[0]+y_tr[1]))\n",
    "# y_te = dict(Counter(y_test))\n",
    "# print(y_te[1]/(y_te[0]+y_te[1]))"
   ]
  },
  {
   "cell_type": "code",
   "execution_count": 89,
   "metadata": {},
   "outputs": [],
   "source": [
    "# print('Baseline:', (y_tr[1]/(y_tr[0]+y_tr[1])))"
   ]
  },
  {
   "cell_type": "markdown",
   "metadata": {},
   "source": [
    "### Random Forest Classifier"
   ]
  },
  {
   "cell_type": "code",
   "execution_count": 59,
   "metadata": {},
   "outputs": [
    {
     "name": "stdout",
     "output_type": "stream",
     "text": [
      "N_tree:  10 cross validation accuracy: 0.546851851852\n",
      "N_tree:  60 cross validation accuracy: 0.552592592593\n",
      "N_tree:  110 cross validation accuracy: 0.558148148148\n",
      "N_tree:  160 cross validation accuracy: 0.560740740741\n",
      "N_tree:  210 cross validation accuracy: 0.560555555556\n",
      "N_tree:  260 cross validation accuracy: 0.559259259259\n",
      "N_tree:  310 cross validation accuracy: 0.561296296296\n",
      "N_tree:  360 cross validation accuracy: 0.560925925926\n",
      "N_tree:  410 cross validation accuracy: 0.556481481481\n",
      "N_tree:  460 cross validation accuracy: 0.559259259259\n",
      "Best N_tree:  310 ; cross-validation accuracy:  0.561296296296\n"
     ]
    }
   ],
   "source": [
    "highest_cross_val_accu = -1\n",
    "best_t = None\n",
    "indices = range(x_train.shape[0])\n",
    "tree = np.arange(10,500,50)\n",
    "kf = KFold(n_splits=5,shuffle=True,random_state=28584096)\n",
    "\n",
    "for n_tree in tree:\n",
    "    accuracies = []\n",
    "    for train_indices, val_indices in kf.split(indices):\n",
    "        x_tr = x_train[train_indices]\n",
    "        y_tr = y_train[train_indices]\n",
    "        cf = RandomForestClassifier(n_estimators=n_tree)\n",
    "        cf.fit(x_tr,y_tr)\n",
    "        pred = cf.predict(x_train[val_indices])\n",
    "        acc = accuracy_score(y_true=y_train[val_indices],y_pred=pred)\n",
    "        accuracies.append(acc)\n",
    "    cross_val_acc = np.mean(accuracies)\n",
    "    print('N_tree: ', n_tree, 'cross validation accuracy:', cross_val_acc)\n",
    "    if cross_val_acc > highest_cross_val_accu:\n",
    "        highest_cross_val_accu = cross_val_acc\n",
    "        best_t = n_tree\n",
    "print('Best N_tree: ',best_t, '; cross-validation accuracy: ',highest_cross_val_accu)"
   ]
  },
  {
   "cell_type": "code",
   "execution_count": 77,
   "metadata": {},
   "outputs": [
    {
     "name": "stdout",
     "output_type": "stream",
     "text": [
      "Test accuracy: 0.545\n"
     ]
    }
   ],
   "source": [
    "rf_cv = RandomForestClassifier(n_estimators=best_t)\n",
    "rf_cv.fit(x_train,y_train)\n",
    "# pred_cv_train = rf_cv.predict(x_train)\n",
    "y_pred = rf_cv.predict(x_test)\n",
    "# print('Train accuracy:', accuracy_score(y_true=y_train,y_pred=pred_cv_train))\n",
    "print('Test accuracy:', accuracy_score(y_true=y_test,y_pred=y_pred))"
   ]
  },
  {
   "cell_type": "code",
   "execution_count": 68,
   "metadata": {},
   "outputs": [],
   "source": [
    "tn,fp,fn,tp = confusion_matrix(y_pred=y_pred,y_true=y_test).ravel()"
   ]
  },
  {
   "cell_type": "code",
   "execution_count": 69,
   "metadata": {},
   "outputs": [
    {
     "data": {
      "text/plain": [
       "array([[737, 247],\n",
       "       [548, 268]])"
      ]
     },
     "execution_count": 69,
     "metadata": {},
     "output_type": "execute_result"
    }
   ],
   "source": [
    "confusion_matrix(y_pred=y_pred,y_true=y_test)"
   ]
  },
  {
   "cell_type": "code",
   "execution_count": 70,
   "metadata": {},
   "outputs": [
    {
     "name": "stdout",
     "output_type": "stream",
     "text": [
      "Recall: 0.328431372549\n",
      "Precision: 0.520388349515\n"
     ]
    }
   ],
   "source": [
    "print('Recall:', tp/(tp+fn))\n",
    "print('Precision:', tp/(tp+fp))"
   ]
  },
  {
   "cell_type": "code",
   "execution_count": 79,
   "metadata": {},
   "outputs": [
    {
     "name": "stdout",
     "output_type": "stream",
     "text": [
      "False Positive Rate: 0.251016260163\n",
      "False Negative Rate: 0.671568627451\n"
     ]
    }
   ],
   "source": [
    "print('False Positive Rate:',fp/(fp+tn))\n",
    "# print('True Positive Rate:',tp/(tp+fn))\n",
    "print('False Negative Rate:',fn/(tp+fn))"
   ]
  },
  {
   "cell_type": "code",
   "execution_count": 76,
   "metadata": {},
   "outputs": [
    {
     "data": {
      "text/plain": [
       "Index(['HYP_07_HYP', 'WBN_GC_L_0.75', 'ARC_07_HYP', 'ARC_01_ARC',\n",
       "       'ARC_03_ARC'],\n",
       "      dtype='object')"
      ]
     },
     "execution_count": 76,
     "metadata": {},
     "output_type": "execute_result"
    }
   ],
   "source": [
    "features[np.argsort(rf_cv.feature_importances_)[::-1][:5]]"
   ]
  },
  {
   "cell_type": "markdown",
   "metadata": {},
   "source": [
    "### SVM"
   ]
  },
  {
   "cell_type": "code",
   "execution_count": null,
   "metadata": {},
   "outputs": [
    {
     "name": "stdout",
     "output_type": "stream",
     "text": [
      "C: 1e-07  cross validation accuracy: 0.551666666667\n",
      "C: 1e-05  cross validation accuracy: 0.551666666667\n",
      "C: 0.001  cross validation accuracy: 0.551666666667\n"
     ]
    }
   ],
   "source": [
    "highest_cross_val_accu = -1\n",
    "best_c = None\n",
    "indices = range(x_train.shape[0])\n",
    "c = [1e-7,1e-5,1e-3,1,10,100]\n",
    "kf = KFold(n_splits=5, shuffle=True, random_state=28584096)\n",
    "\n",
    "for c_ in c:\n",
    "    accuracies = []\n",
    "    for train_indices, val_indices in kf.split(indices):\n",
    "        x_tr = x_train[train_indices]\n",
    "        y_tr = y_train[train_indices]\n",
    "        svm = SVC(kernel='linear',C=c_)\n",
    "        svm.fit(x_tr,y_tr)\n",
    "        pred = svm.predict(x_train[val_indices])\n",
    "        acc = accuracy_score(y_pred=pred,y_true=y_train[val_indices])\n",
    "        accuracies.append(acc)\n",
    "    cross_val_acc = np.mean(accuracies)\n",
    "    print('C:', c_, ' cross validation accuracy:', cross_val_acc)\n",
    "    if cross_val_acc > highest_cross_val_accu:\n",
    "        highest_cross_val_accu = cross_val_acc\n",
    "        best_c = c_\n",
    "print('Best c:', best_c, '; cross-validation accuracy:',highest_cross_val_accu)"
   ]
  },
  {
   "cell_type": "markdown",
   "metadata": {},
   "source": [
    "### RF:  Drug Bank"
   ]
  },
  {
   "cell_type": "code",
   "execution_count": 47,
   "metadata": {},
   "outputs": [
    {
     "name": "stdout",
     "output_type": "stream",
     "text": [
      "(8722, 179)\n"
     ]
    }
   ],
   "source": [
    "drugbank = pd.read_csv('DrugBank_MV.csv',dtype={'Row':'str'})\n",
    "drugid = np.array(drugbank.iloc[:,0].dropna(axis=0))\n",
    "drugbank = drugbank.iloc[:,1:180]\n",
    "drugbank = np.array(drugbank.dropna(axis=0))\n",
    "print(drugbank.shape)"
   ]
  },
  {
   "cell_type": "code",
   "execution_count": 48,
   "metadata": {},
   "outputs": [
    {
     "name": "stdout",
     "output_type": "stream",
     "text": [
      "Counter({0: 8104, 1: 618})\n"
     ]
    }
   ],
   "source": [
    "drug_pred = rf_cv.predict(drugbank)\n",
    "print(Counter(drug_pred))\n",
    "# predicted active molucule\n",
    "drugid_rf = drugid[np.where(drug_pred==1)]"
   ]
  },
  {
   "cell_type": "markdown",
   "metadata": {},
   "source": [
    "### SVM:  Drug Bank"
   ]
  },
  {
   "cell_type": "code",
   "execution_count": 49,
   "metadata": {},
   "outputs": [
    {
     "name": "stdout",
     "output_type": "stream",
     "text": [
      "Counter({0: 6264, 1: 2458})\n"
     ]
    }
   ],
   "source": [
    "drug_pred_svm = svm.predict(drugbank)\n",
    "print(Counter(drug_pred_svm))j\n",
    "drugid_svm = drugid[np.where(drug_pred_svm==1)]"
   ]
  },
  {
   "cell_type": "code",
   "execution_count": 57,
   "metadata": {},
   "outputs": [],
   "source": [
    "drug_name_rf = [drug_map[idx] for idx in drugid_rf]"
   ]
  },
  {
   "cell_type": "code",
   "execution_count": 58,
   "metadata": {},
   "outputs": [],
   "source": [
    "drug_name_svm = [drug_map[idx] for idx in drugid_svm]"
   ]
  },
  {
   "cell_type": "code",
   "execution_count": 59,
   "metadata": {},
   "outputs": [],
   "source": [
    "name = [set(drug_name_svm) & set(drug_name_rf)]"
   ]
  }
 ],
 "metadata": {
  "kernelspec": {
   "display_name": "Python 3",
   "language": "python",
   "name": "python3"
  },
  "language_info": {
   "codemirror_mode": {
    "name": "ipython",
    "version": 3
   },
   "file_extension": ".py",
   "mimetype": "text/x-python",
   "name": "python",
   "nbconvert_exporter": "python",
   "pygments_lexer": "ipython3",
   "version": "3.5.2"
  }
 },
 "nbformat": 4,
 "nbformat_minor": 2
}
