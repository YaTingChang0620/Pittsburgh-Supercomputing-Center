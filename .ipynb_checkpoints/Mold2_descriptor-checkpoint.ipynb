{
 "cells": [
  {
   "cell_type": "code",
   "execution_count": 21,
   "metadata": {},
   "outputs": [],
   "source": [
    "import pandas as pd\n",
    "import glob "
   ]
  },
  {
   "cell_type": "code",
   "execution_count": 22,
   "metadata": {},
   "outputs": [],
   "source": [
    "active = pd.read_table('./Dataset/2289/2289_active.txt')"
   ]
  },
  {
   "cell_type": "code",
   "execution_count": 23,
   "metadata": {},
   "outputs": [],
   "source": [
    "molecule_descriptor_files = []\n",
    "for file in glob.glob('./Dataset/2289/2289_inactive_part[0-9]*.txt'):\n",
    "    molecule_descriptor_files.append(file)"
   ]
  },
  {
   "cell_type": "code",
   "execution_count": 24,
   "metadata": {},
   "outputs": [
    {
     "name": "stderr",
     "output_type": "stream",
     "text": [
      "/opt/packages/python/Python-3.5.2-icc-mkl/lib/python3.5/site-packages/IPython/core/interactiveshell.py:2728: DtypeWarning: Columns (256,258) have mixed types. Specify dtype option on import or set low_memory=False.\n",
      "  interactivity=interactivity, compiler=compiler, result=result)\n"
     ]
    }
   ],
   "source": [
    "files = []\n",
    "for file in molecule_descriptor_files:\n",
    "    f = pd.read_table(file)\n",
    "    files.append(f)"
   ]
  },
  {
   "cell_type": "code",
   "execution_count": 25,
   "metadata": {},
   "outputs": [],
   "source": [
    "files.append(active)\n",
    "allfiles = pd.concat(files)"
   ]
  },
  {
   "cell_type": "code",
   "execution_count": 26,
   "metadata": {},
   "outputs": [
    {
     "data": {
      "text/plain": [
       "(305029, 779)"
      ]
     },
     "execution_count": 26,
     "metadata": {},
     "output_type": "execute_result"
    }
   ],
   "source": [
    "allfiles.shape"
   ]
  },
  {
   "cell_type": "code",
   "execution_count": 20,
   "metadata": {},
   "outputs": [
    {
     "data": {
      "text/html": [
       "<div>\n",
       "<style scoped>\n",
       "    .dataframe tbody tr th:only-of-type {\n",
       "        vertical-align: middle;\n",
       "    }\n",
       "\n",
       "    .dataframe tbody tr th {\n",
       "        vertical-align: top;\n",
       "    }\n",
       "\n",
       "    .dataframe thead th {\n",
       "        text-align: right;\n",
       "    }\n",
       "</style>\n",
       "<table border=\"1\" class=\"dataframe\">\n",
       "  <thead>\n",
       "    <tr style=\"text-align: right;\">\n",
       "      <th></th>\n",
       "      <th>ReadIn_ID</th>\n",
       "      <th>USER_ID</th>\n",
       "      <th>D001</th>\n",
       "      <th>D002</th>\n",
       "      <th>D003</th>\n",
       "      <th>D004</th>\n",
       "      <th>D005</th>\n",
       "      <th>D006</th>\n",
       "      <th>D007</th>\n",
       "      <th>D008</th>\n",
       "      <th>...</th>\n",
       "      <th>D768</th>\n",
       "      <th>D769</th>\n",
       "      <th>D770</th>\n",
       "      <th>D771</th>\n",
       "      <th>D772</th>\n",
       "      <th>D773</th>\n",
       "      <th>D774</th>\n",
       "      <th>D775</th>\n",
       "      <th>D776</th>\n",
       "      <th>D777</th>\n",
       "    </tr>\n",
       "  </thead>\n",
       "  <tbody>\n",
       "    <tr>\n",
       "      <th>0</th>\n",
       "      <td>1</td>\n",
       "      <td>6603008</td>\n",
       "      <td>1</td>\n",
       "      <td>0</td>\n",
       "      <td>0</td>\n",
       "      <td>0</td>\n",
       "      <td>1</td>\n",
       "      <td>0</td>\n",
       "      <td>0</td>\n",
       "      <td>0</td>\n",
       "      <td>...</td>\n",
       "      <td>0</td>\n",
       "      <td>0</td>\n",
       "      <td>0</td>\n",
       "      <td>0</td>\n",
       "      <td>0</td>\n",
       "      <td>0</td>\n",
       "      <td>4.700</td>\n",
       "      <td>-0.627</td>\n",
       "      <td>0.273</td>\n",
       "      <td>1.574</td>\n",
       "    </tr>\n",
       "    <tr>\n",
       "      <th>1</th>\n",
       "      <td>2</td>\n",
       "      <td>6602571</td>\n",
       "      <td>1</td>\n",
       "      <td>0</td>\n",
       "      <td>0</td>\n",
       "      <td>1</td>\n",
       "      <td>2</td>\n",
       "      <td>0</td>\n",
       "      <td>0</td>\n",
       "      <td>0</td>\n",
       "      <td>...</td>\n",
       "      <td>2</td>\n",
       "      <td>0</td>\n",
       "      <td>0</td>\n",
       "      <td>0</td>\n",
       "      <td>0</td>\n",
       "      <td>0</td>\n",
       "      <td>4.907</td>\n",
       "      <td>-0.729</td>\n",
       "      <td>0.240</td>\n",
       "      <td>1.780</td>\n",
       "    </tr>\n",
       "    <tr>\n",
       "      <th>2</th>\n",
       "      <td>3</td>\n",
       "      <td>6602616</td>\n",
       "      <td>1</td>\n",
       "      <td>0</td>\n",
       "      <td>0</td>\n",
       "      <td>1</td>\n",
       "      <td>2</td>\n",
       "      <td>0</td>\n",
       "      <td>0</td>\n",
       "      <td>0</td>\n",
       "      <td>...</td>\n",
       "      <td>2</td>\n",
       "      <td>0</td>\n",
       "      <td>0</td>\n",
       "      <td>0</td>\n",
       "      <td>0</td>\n",
       "      <td>0</td>\n",
       "      <td>5.087</td>\n",
       "      <td>-0.196</td>\n",
       "      <td>0.207</td>\n",
       "      <td>2.447</td>\n",
       "    </tr>\n",
       "    <tr>\n",
       "      <th>3</th>\n",
       "      <td>4</td>\n",
       "      <td>644371</td>\n",
       "      <td>1</td>\n",
       "      <td>0</td>\n",
       "      <td>0</td>\n",
       "      <td>0</td>\n",
       "      <td>1</td>\n",
       "      <td>1</td>\n",
       "      <td>0</td>\n",
       "      <td>0</td>\n",
       "      <td>...</td>\n",
       "      <td>0</td>\n",
       "      <td>0</td>\n",
       "      <td>0</td>\n",
       "      <td>0</td>\n",
       "      <td>0</td>\n",
       "      <td>0</td>\n",
       "      <td>4.644</td>\n",
       "      <td>-0.787</td>\n",
       "      <td>0.286</td>\n",
       "      <td>2.756</td>\n",
       "    </tr>\n",
       "    <tr>\n",
       "      <th>4</th>\n",
       "      <td>5</td>\n",
       "      <td>6603132</td>\n",
       "      <td>2</td>\n",
       "      <td>0</td>\n",
       "      <td>0</td>\n",
       "      <td>0</td>\n",
       "      <td>3</td>\n",
       "      <td>0</td>\n",
       "      <td>0</td>\n",
       "      <td>0</td>\n",
       "      <td>...</td>\n",
       "      <td>0</td>\n",
       "      <td>0</td>\n",
       "      <td>0</td>\n",
       "      <td>0</td>\n",
       "      <td>0</td>\n",
       "      <td>0</td>\n",
       "      <td>5.000</td>\n",
       "      <td>-0.815</td>\n",
       "      <td>0.480</td>\n",
       "      <td>2.421</td>\n",
       "    </tr>\n",
       "  </tbody>\n",
       "</table>\n",
       "<p>5 rows × 779 columns</p>\n",
       "</div>"
      ],
      "text/plain": [
       "   ReadIn_ID  USER_ID  D001  D002  D003  D004  D005  D006  D007  D008  ...    \\\n",
       "0          1  6603008     1     0     0     0     1     0     0     0  ...     \n",
       "1          2  6602571     1     0     0     1     2     0     0     0  ...     \n",
       "2          3  6602616     1     0     0     1     2     0     0     0  ...     \n",
       "3          4   644371     1     0     0     0     1     1     0     0  ...     \n",
       "4          5  6603132     2     0     0     0     3     0     0     0  ...     \n",
       "\n",
       "   D768  D769  D770  D771  D772  D773   D774   D775   D776   D777  \n",
       "0     0     0     0     0     0     0  4.700 -0.627  0.273  1.574  \n",
       "1     2     0     0     0     0     0  4.907 -0.729  0.240  1.780  \n",
       "2     2     0     0     0     0     0  5.087 -0.196  0.207  2.447  \n",
       "3     0     0     0     0     0     0  4.644 -0.787  0.286  2.756  \n",
       "4     0     0     0     0     0     0  5.000 -0.815  0.480  2.421  \n",
       "\n",
       "[5 rows x 779 columns]"
      ]
     },
     "execution_count": 20,
     "metadata": {},
     "output_type": "execute_result"
    }
   ],
   "source": [
    "allfiles.head()"
   ]
  }
 ],
 "metadata": {
  "kernelspec": {
   "display_name": "Python 3",
   "language": "python",
   "name": "python3"
  },
  "language_info": {
   "codemirror_mode": {
    "name": "ipython",
    "version": 3
   },
   "file_extension": ".py",
   "mimetype": "text/x-python",
   "name": "python",
   "nbconvert_exporter": "python",
   "pygments_lexer": "ipython3",
   "version": "3.5.2"
  }
 },
 "nbformat": 4,
 "nbformat_minor": 2
}
