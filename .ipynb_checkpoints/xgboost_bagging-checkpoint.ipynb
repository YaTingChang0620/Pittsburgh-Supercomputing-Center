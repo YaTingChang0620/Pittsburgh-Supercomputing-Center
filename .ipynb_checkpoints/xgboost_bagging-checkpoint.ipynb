{
 "cells": [
  {
   "cell_type": "code",
   "execution_count": 1,
   "metadata": {},
   "outputs": [],
   "source": [
    "from sklearn.decomposition import PCA\n",
    "from sklearn.model_selection import train_test_split\n",
    "from imblearn.under_sampling import RandomUnderSampler\n",
    "from sklearn.metrics import confusion_matrix\n",
    "from sklearn.metrics import accuracy_score\n",
    "from collections import Counter\n",
    "from sklearn.metrics import roc_curve,roc_auc_score\n",
    "import pandas as pd\n",
    "import numpy as np\n",
    "import xgboost as xgb\n",
    "import matplotlib.pyplot as plt\n",
    "import seaborn as sns\n",
    "%matplotlib inline\n",
    "%config InlineBackend.figure_format = 'svg'"
   ]
  },
  {
   "cell_type": "code",
   "execution_count": 2,
   "metadata": {},
   "outputs": [],
   "source": [
    "molecule_matrix = pd.read_csv('./Dataset/Molecule_matrix_mold2.csv',dtype={'CID':'str'})"
   ]
  },
  {
   "cell_type": "code",
   "execution_count": 3,
   "metadata": {},
   "outputs": [],
   "source": [
    "CID = np.array(molecule_matrix['CID'])\n",
    "label = np.array(molecule_matrix['outcome'])\n",
    "molecule_matrix_ = np.array(molecule_matrix.iloc[:,1:molecule_matrix.shape[1]-1])"
   ]
  },
  {
   "cell_type": "code",
   "execution_count": null,
   "metadata": {},
   "outputs": [],
   "source": [
    "class baggingXgboost:\n",
    "    def __init__(self,x,y,boost_size=10):\n",
    "        self.x = x\n",
    "        self.y = y\n",
    "        self.boost_size = boost_size\n",
    "        self.boost = []\n",
    "        \n",
    "    def underSampleMajority(self,majority_multiplier=10):\n",
    "        label = dict(Counter(self.y))\n",
    "        ratio = {1:label[1],0:int(majority_multiplier*label[1])}\n",
    "        rus = RandomUnderSampler(ratio=ratio, replacement=False)\n",
    "        x_resample, y_resample = rus.fit_sample(self.x,self.y)\n",
    "        return x_resample, y_resample\n",
    "    \n",
    "    def train(self,x,y):\n",
    "        train = xgb.DMatrix(x,y)\n",
    "        scale = float(np.sum(y == 0)/np.sum(y == 1))\n",
    "        param = {'gamma':0.8,'max_depth':6,'objective':'binary:logistic','eval_metric':'auc','scale_pos_weight':scale}\n",
    "        num_round = 25\n",
    "        bst = xgb.train(params=param,dtrain=train,num_boost_round=num_round)\n",
    "        self.boost.append(bst)\n",
    "        \n",
    "    def predict(self,test):\n",
    "        bagging_result = np.zeros((self.boost_size,x_test.shape[0]))\n",
    "        pred_result = np.zeros(x_test.shape[0])\n",
    "        true = test.get_label()\n",
    "        \n",
    "        for i in range(self.boost_size):\n",
    "            bst_i = self.boost[i]\n",
    "            pred = bst_i.predict(test)\n",
    "            pred_ =  [1 if p>0.4 else 0 for p in pred]\n",
    "            bagging_result[i] = pred_\n",
    "        \n",
    "        col_sum = np.sum(bagging_result,axis=0)\n",
    "        posi_indx = np.where(col_sum >= (self.boost_size/2))\n",
    "        pred_result[posi_indx] = 1\n",
    "        \n",
    "        return true, pred_result"
   ]
  },
  {
   "cell_type": "code",
   "execution_count": null,
   "metadata": {},
   "outputs": [],
   "source": [
    "rand_indx = np.random.permutation(molecule_matrix_.shape[0])\n",
    "molecule_matrix_rand = molecule_matrix_[rand_indx]\n",
    "label_rand = label[rand_indx]"
   ]
  },
  {
   "cell_type": "code",
   "execution_count": null,
   "metadata": {},
   "outputs": [],
   "source": [
    "neg_indx = list(np.where(label_rand==0)[0][:1500])\n",
    "post_indx = np.where(label_rand==1)[0][:150]"
   ]
  },
  {
   "cell_type": "code",
   "execution_count": null,
   "metadata": {},
   "outputs": [],
   "source": [
    "for p in post_indx:\n",
    "    neg_indx.append(p)"
   ]
  },
  {
   "cell_type": "code",
   "execution_count": null,
   "metadata": {},
   "outputs": [],
   "source": [
    "x_test = molecule_matrix_rand[neg_indx]\n",
    "y_test = label_rand[neg_indx]"
   ]
  },
  {
   "cell_type": "code",
   "execution_count": null,
   "metadata": {},
   "outputs": [],
   "source": [
    "train_indx = np.ones(molecule_matrix_rand.shape[0]).astype('bool')\n",
    "train_indx[neg_indx] = False\n",
    "x_train = molecule_matrix_rand[train_indx]\n",
    "y_train = label_rand[train_indx]"
   ]
  },
  {
   "cell_type": "code",
   "execution_count": null,
   "metadata": {},
   "outputs": [],
   "source": [
    "test = xgb.DMatrix(x_test,y_test)"
   ]
  },
  {
   "cell_type": "code",
   "execution_count": null,
   "metadata": {},
   "outputs": [],
   "source": [
    "bsize = 20\n",
    "bx = baggingXgboost(x_train,y_train,boost_size=bsize)"
   ]
  },
  {
   "cell_type": "code",
   "execution_count": null,
   "metadata": {},
   "outputs": [],
   "source": [
    "for b in range(bsize):\n",
    "    x_resample,y_resample = bx.underSampleMajority()\n",
    "    bx.train(x_resample,y_resample)"
   ]
  },
  {
   "cell_type": "code",
   "execution_count": null,
   "metadata": {},
   "outputs": [],
   "source": [
    "true, pred = bx.predict(test)"
   ]
  },
  {
   "cell_type": "code",
   "execution_count": null,
   "metadata": {},
   "outputs": [],
   "source": [
    "tn,fp,fn,tp = confusion_matrix(y_pred=pred,y_true=true).ravel()\n",
    "tpr = tp/(tp+fn)\n",
    "fnr = fn/(tp+fn)\n",
    "print('True positive rate:', tpr)\n",
    "print('False negative rate:', fnr)"
   ]
  }
 ],
 "metadata": {
  "kernelspec": {
   "display_name": "Python 3",
   "language": "python",
   "name": "python3"
  },
  "language_info": {
   "codemirror_mode": {
    "name": "ipython",
    "version": 3
   },
   "file_extension": ".py",
   "mimetype": "text/x-python",
   "name": "python",
   "nbconvert_exporter": "python",
   "pygments_lexer": "ipython3",
   "version": "3.5.2"
  }
 },
 "nbformat": 4,
 "nbformat_minor": 2
}
