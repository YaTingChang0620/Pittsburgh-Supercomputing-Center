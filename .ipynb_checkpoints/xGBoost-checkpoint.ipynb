{
 "cells": [
  {
   "cell_type": "code",
   "execution_count": 18,
   "metadata": {},
   "outputs": [],
   "source": [
    "import pandas as pd\n",
    "import xgboost as xgb\n",
    "import numpy as np\n",
    "from collections import Counter\n",
    "from imblearn.under_sampling import RandomUnderSampler\n",
    "from sklearn.model_selection import train_test_split\n",
    "from sklearn.metrics import confusion_matrix"
   ]
  },
  {
   "cell_type": "code",
   "execution_count": 19,
   "metadata": {},
   "outputs": [],
   "source": [
    "molecule_matrix = np.array(pd.read_csv('Dataset/Molecule_Matrix.csv'))\n",
    "label = np.array(pd.read_csv('Dataset/label.csv')).T[0]\n",
    "moleculeCID = np.array(pd.read_csv('Dataset/moleculeCID.csv')).T[0]"
   ]
  },
  {
   "cell_type": "code",
   "execution_count": 20,
   "metadata": {},
   "outputs": [
    {
     "name": "stdout",
     "output_type": "stream",
     "text": [
      "(305385, 158)\n",
      "305385\n",
      "305385\n",
      "Counter({0: 304501, 1: 884})\n"
     ]
    }
   ],
   "source": [
    "print(molecule_matrix.shape)\n",
    "print(len(label))\n",
    "print(len(moleculeCID))\n",
    "print(Counter(label))"
   ]
  },
  {
   "cell_type": "markdown",
   "metadata": {},
   "source": [
    "#### Down sampling majority first,  inactive:active = 5:1"
   ]
  },
  {
   "cell_type": "code",
   "execution_count": 21,
   "metadata": {},
   "outputs": [],
   "source": [
    "ratio = {0:6420,1:884}\n",
    "rus = RandomUnderSampler(random_state=8584096,ratio=ratio)\n",
    "x_resample,y_resample = rus.fit_sample(molecule_matrix,label)"
   ]
  },
  {
   "cell_type": "code",
   "execution_count": 22,
   "metadata": {},
   "outputs": [],
   "source": [
    "# split the train and test\n",
    "x_train,x_test,y_train,y_test = train_test_split(x_resample,y_resample,test_size = 0.3)"
   ]
  },
  {
   "cell_type": "code",
   "execution_count": 23,
   "metadata": {},
   "outputs": [
    {
     "name": "stdout",
     "output_type": "stream",
     "text": [
      "Counter({0: 4482, 1: 630})\n",
      "Counter({0: 1938, 1: 254})\n"
     ]
    }
   ],
   "source": [
    "print(Counter(y_train))\n",
    "print(Counter(y_test))"
   ]
  },
  {
   "cell_type": "markdown",
   "metadata": {},
   "source": [
    "#### load numpy into DMatrix"
   ]
  },
  {
   "cell_type": "code",
   "execution_count": 24,
   "metadata": {},
   "outputs": [],
   "source": [
    "train = xgb.DMatrix(x_train,label=y_train)\n",
    "test = xgb.DMatrix(x_test,label=y_test)"
   ]
  },
  {
   "cell_type": "code",
   "execution_count": 40,
   "metadata": {},
   "outputs": [],
   "source": [
    "param = {'lambda':0.6,'max_depth':4,'scale_pos_weight':8,'objective':'binary:logistic','eval_metric':'auc','eta':0.8}\n",
    "num_round = 20\n",
    "watchlist = [(test,'eval'),(train,'train')]"
   ]
  },
  {
   "cell_type": "code",
   "execution_count": 41,
   "metadata": {},
   "outputs": [
    {
     "name": "stdout",
     "output_type": "stream",
     "text": [
      "[0]\teval-auc:0.477515\ttrain-auc:0.583003\n",
      "[1]\teval-auc:0.490879\ttrain-auc:0.643569\n",
      "[2]\teval-auc:0.506813\ttrain-auc:0.672048\n",
      "[3]\teval-auc:0.514251\ttrain-auc:0.687213\n",
      "[4]\teval-auc:0.519548\ttrain-auc:0.72157\n",
      "[5]\teval-auc:0.518285\ttrain-auc:0.746636\n",
      "[6]\teval-auc:0.524298\ttrain-auc:0.769334\n",
      "[7]\teval-auc:0.511692\ttrain-auc:0.79735\n",
      "[8]\teval-auc:0.522591\ttrain-auc:0.817593\n",
      "[9]\teval-auc:0.525517\ttrain-auc:0.828828\n",
      "[10]\teval-auc:0.528996\ttrain-auc:0.835391\n",
      "[11]\teval-auc:0.524206\ttrain-auc:0.851674\n",
      "[12]\teval-auc:0.523162\ttrain-auc:0.863135\n",
      "[13]\teval-auc:0.513736\ttrain-auc:0.86997\n",
      "[14]\teval-auc:0.519845\ttrain-auc:0.882347\n",
      "[15]\teval-auc:0.525514\ttrain-auc:0.886546\n",
      "[16]\teval-auc:0.522847\ttrain-auc:0.896723\n",
      "[17]\teval-auc:0.524434\ttrain-auc:0.903134\n",
      "[18]\teval-auc:0.529221\ttrain-auc:0.911495\n",
      "[19]\teval-auc:0.53158\ttrain-auc:0.919695\n"
     ]
    }
   ],
   "source": [
    "bst = xgb.train(dtrain=train,params=param,num_boost_round=num_round,evals=watchlist)"
   ]
  },
  {
   "cell_type": "code",
   "execution_count": 38,
   "metadata": {},
   "outputs": [],
   "source": [
    "preds = bst.predict(test)"
   ]
  },
  {
   "cell_type": "code",
   "execution_count": 39,
   "metadata": {},
   "outputs": [],
   "source": [
    "label = test.get_label()"
   ]
  },
  {
   "cell_type": "code",
   "execution_count": 40,
   "metadata": {},
   "outputs": [],
   "source": [
    "t = [1 if i>0.6 else 0 for i in preds]"
   ]
  },
  {
   "cell_type": "code",
   "execution_count": 41,
   "metadata": {},
   "outputs": [
    {
     "data": {
      "text/plain": [
       "0.28266331658291455"
      ]
     },
     "execution_count": 41,
     "metadata": {},
     "output_type": "execute_result"
    }
   ],
   "source": [
    "np.mean(t!=label)"
   ]
  },
  {
   "cell_type": "code",
   "execution_count": 42,
   "metadata": {},
   "outputs": [
    {
     "data": {
      "text/plain": [
       "array([[1094,  240],\n",
       "       [ 210,   48]])"
      ]
     },
     "execution_count": 42,
     "metadata": {},
     "output_type": "execute_result"
    }
   ],
   "source": [
    "confusion_matrix(y_true=label,y_pred=t)"
   ]
  },
  {
   "cell_type": "code",
   "execution_count": 43,
   "metadata": {},
   "outputs": [],
   "source": [
    "tn,fp,fn,tp = confusion_matrix(y_true=label,y_pred=t).ravel()"
   ]
  },
  {
   "cell_type": "code",
   "execution_count": 99,
   "metadata": {},
   "outputs": [],
   "source": [
    "# print('Precision=', tp/(tp+fp))"
   ]
  },
  {
   "cell_type": "code",
   "execution_count": 100,
   "metadata": {},
   "outputs": [],
   "source": [
    "# print('Recall:',tp/(tp+fn))"
   ]
  },
  {
   "cell_type": "code",
   "execution_count": 101,
   "metadata": {},
   "outputs": [],
   "source": [
    "# print('False negative:',fn/(tp+fn))"
   ]
  }
 ],
 "metadata": {
  "kernelspec": {
   "display_name": "Python 3",
   "language": "python",
   "name": "python3"
  },
  "language_info": {
   "codemirror_mode": {
    "name": "ipython",
    "version": 3
   },
   "file_extension": ".py",
   "mimetype": "text/x-python",
   "name": "python",
   "nbconvert_exporter": "python",
   "pygments_lexer": "ipython3",
   "version": "3.5.2"
  }
 },
 "nbformat": 4,
 "nbformat_minor": 2
}
