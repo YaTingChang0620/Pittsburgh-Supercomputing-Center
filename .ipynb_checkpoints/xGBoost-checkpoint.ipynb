{
 "cells": [
  {
   "cell_type": "code",
   "execution_count": 17,
   "metadata": {},
   "outputs": [],
   "source": [
    "import pandas as pd\n",
    "import xgboost as xgb\n",
    "import numpy as np\n",
    "from collections import Counter\n",
    "from imblearn.under_sampling import RandomUnderSampler\n",
    "from sklearn.model_selection import train_test_split\n",
    "from sklearn.metrics import confusion_matrix"
   ]
  },
  {
   "cell_type": "code",
   "execution_count": 2,
   "metadata": {},
   "outputs": [],
   "source": [
    "molecule_matrix = np.array(pd.read_csv('Dataset/Molecule_Matrix.csv'))\n",
    "label = np.array(pd.read_csv('Dataset/label.csv')).T[0]\n",
    "moleculeCID = np.array(pd.read_csv('Dataset/moleculeCID.csv')).T[0]"
   ]
  },
  {
   "cell_type": "code",
   "execution_count": 3,
   "metadata": {},
   "outputs": [
    {
     "name": "stdout",
     "output_type": "stream",
     "text": [
      "(305385, 158)\n",
      "305385\n",
      "305385\n",
      "Counter({0: 304501, 1: 884})\n"
     ]
    }
   ],
   "source": [
    "print(molecule_matrix.shape)\n",
    "print(len(label))\n",
    "print(len(moleculeCID))\n",
    "print(Counter(label))"
   ]
  },
  {
   "cell_type": "markdown",
   "metadata": {},
   "source": [
    "#### Down sampling majority first,  inactive:active = 5:1"
   ]
  },
  {
   "cell_type": "code",
   "execution_count": 4,
   "metadata": {},
   "outputs": [],
   "source": [
    "ratio = {0:4420,1:884}\n",
    "rus = RandomUnderSampler(random_state=8584096,ratio=ratio)\n",
    "x_resample,y_resample = rus.fit_sample(molecule_matrix,label)"
   ]
  },
  {
   "cell_type": "code",
   "execution_count": 5,
   "metadata": {},
   "outputs": [],
   "source": [
    "# split the train and test\n",
    "x_train,x_test,y_train,y_test = train_test_split(x_resample,y_resample,test_size = 0.3)"
   ]
  },
  {
   "cell_type": "code",
   "execution_count": 98,
   "metadata": {},
   "outputs": [
    {
     "name": "stdout",
     "output_type": "stream",
     "text": [
      "Counter({0: 3086, 1: 626})\n",
      "Counter({0: 1334, 1: 258})\n"
     ]
    }
   ],
   "source": [
    "print(Counter(y_train))\n",
    "print(Counter(y_test))"
   ]
  },
  {
   "cell_type": "markdown",
   "metadata": {},
   "source": [
    "#### load numpy into DMatrix"
   ]
  },
  {
   "cell_type": "code",
   "execution_count": 47,
   "metadata": {},
   "outputs": [],
   "source": [
    "train = xgb.DMatrix(x_train,label=y_train)\n",
    "test = xgb.DMatrix(x_test,label=y_test)"
   ]
  },
  {
   "cell_type": "code",
   "execution_count": 95,
   "metadata": {},
   "outputs": [],
   "source": [
    "param = {'lambda':0.8,'max_depth':5,'scale_pos_weight':5,'gamma':8,'objective':'binary:logistic','eval_metric':'auc','eta':0.4}\n",
    "num_round = 10\n",
    "watchlist = [(test,'eval'),(train,'train')]"
   ]
  },
  {
   "cell_type": "code",
   "execution_count": 96,
   "metadata": {},
   "outputs": [
    {
     "name": "stdout",
     "output_type": "stream",
     "text": [
      "[0]\teval-auc:0.523507\ttrain-auc:0.631773\n",
      "[1]\teval-auc:0.541813\ttrain-auc:0.734095\n",
      "[2]\teval-auc:0.530046\ttrain-auc:0.787516\n",
      "[3]\teval-auc:0.519529\ttrain-auc:0.800178\n",
      "[4]\teval-auc:0.525802\ttrain-auc:0.816931\n",
      "[5]\teval-auc:0.527448\ttrain-auc:0.825031\n",
      "[6]\teval-auc:0.511211\ttrain-auc:0.859444\n",
      "[7]\teval-auc:0.513623\ttrain-auc:0.871295\n",
      "[8]\teval-auc:0.514613\ttrain-auc:0.88362\n",
      "[9]\teval-auc:0.506641\ttrain-auc:0.900185\n"
     ]
    }
   ],
   "source": [
    "bst = xgb.train(dtrain=train,params=param,num_boost_round=num_round,evals=watchlist)"
   ]
  },
  {
   "cell_type": "code",
   "execution_count": 38,
   "metadata": {},
   "outputs": [],
   "source": [
    "preds = bst.predict(test)"
   ]
  },
  {
   "cell_type": "code",
   "execution_count": 39,
   "metadata": {},
   "outputs": [],
   "source": [
    "label = test.get_label()"
   ]
  },
  {
   "cell_type": "code",
   "execution_count": 40,
   "metadata": {},
   "outputs": [],
   "source": [
    "t = [1 if i>0.6 else 0 for i in preds]"
   ]
  },
  {
   "cell_type": "code",
   "execution_count": 41,
   "metadata": {},
   "outputs": [
    {
     "data": {
      "text/plain": [
       "0.28266331658291455"
      ]
     },
     "execution_count": 41,
     "metadata": {},
     "output_type": "execute_result"
    }
   ],
   "source": [
    "np.mean(t!=label)"
   ]
  },
  {
   "cell_type": "code",
   "execution_count": 42,
   "metadata": {},
   "outputs": [
    {
     "data": {
      "text/plain": [
       "array([[1094,  240],\n",
       "       [ 210,   48]])"
      ]
     },
     "execution_count": 42,
     "metadata": {},
     "output_type": "execute_result"
    }
   ],
   "source": [
    "confusion_matrix(y_true=label,y_pred=t)"
   ]
  },
  {
   "cell_type": "code",
   "execution_count": 43,
   "metadata": {},
   "outputs": [],
   "source": [
    "tn,fp,fn,tp = confusion_matrix(y_true=label,y_pred=t).ravel()"
   ]
  },
  {
   "cell_type": "code",
   "execution_count": 99,
   "metadata": {},
   "outputs": [],
   "source": [
    "# print('Precision=', tp/(tp+fp))"
   ]
  },
  {
   "cell_type": "code",
   "execution_count": 100,
   "metadata": {},
   "outputs": [],
   "source": [
    "# print('Recall:',tp/(tp+fn))"
   ]
  },
  {
   "cell_type": "code",
   "execution_count": 101,
   "metadata": {},
   "outputs": [],
   "source": [
    "# print('False negative:',fn/(tp+fn))"
   ]
  }
 ],
 "metadata": {
  "kernelspec": {
   "display_name": "Python 3",
   "language": "python",
   "name": "python3"
  },
  "language_info": {
   "codemirror_mode": {
    "name": "ipython",
    "version": 3
   },
   "file_extension": ".py",
   "mimetype": "text/x-python",
   "name": "python",
   "nbconvert_exporter": "python",
   "pygments_lexer": "ipython3",
   "version": "3.5.2"
  }
 },
 "nbformat": 4,
 "nbformat_minor": 2
}
