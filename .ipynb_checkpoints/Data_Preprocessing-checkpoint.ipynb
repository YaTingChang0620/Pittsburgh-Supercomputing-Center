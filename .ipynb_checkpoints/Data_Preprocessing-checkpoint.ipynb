{
 "cells": [
  {
   "cell_type": "code",
   "execution_count": 32,
   "metadata": {},
   "outputs": [],
   "source": [
    "import zipfile\n",
    "import pandas as pd\n",
    "import numpy as np\n",
    "import glob\n",
    "import scipy.sparse\n",
    "from sklearn.model_selection import train_test_split\n",
    "from collections import Counter\n",
    "from sklearn.ensemble import RandomForestClassifier\n",
    "from sklearn.ensemble import GradientBoostingClassifier\n",
    "from sklearn.model_selection import KFold\n",
    "from sklearn.svm import SVC\n",
    "from sklearn.metrics import accuracy_score\n",
    "from sklearn.metrics import precision_score\n",
    "from sklearn.metrics import confusion_matrix\n",
    "import matplotlib.pyplot as plt\n",
    "from tempfile import TemporaryFile\n",
    "%matplotlib inline"
   ]
  },
  {
   "cell_type": "code",
   "execution_count": 33,
   "metadata": {},
   "outputs": [],
   "source": [
    "molecule_descriptor_files = []\n",
    "for file in glob.glob('./Dataset/AID_2289_descriptors_part[0-9]*.csv'):\n",
    "    molecule_descriptor_files.append(file)"
   ]
  },
  {
   "cell_type": "markdown",
   "metadata": {},
   "source": [
    "#### Use counter-screen (AID: 588342) to filter out false positive"
   ]
  },
  {
   "cell_type": "markdown",
   "metadata": {},
   "source": [
    "Counter-screen: A screen performed in parallel with or after the primary screen. The assay used in the counter-screen is developed to identify compounds that have the potential to interfere with the assay used in the primary screen (the primary assay)."
   ]
  },
  {
   "cell_type": "markdown",
   "metadata": {},
   "source": [
    "Identify the overlapping CID between 588342 active and 2289 active: 2,399 molecules"
   ]
  },
  {
   "cell_type": "code",
   "execution_count": 34,
   "metadata": {},
   "outputs": [],
   "source": [
    "active_588342 = pd.read_csv('./Dataset/active_588342.csv',dtype={'CID':'str'})\n",
    "active_2289 = pd.read_csv('./Dataset/active_2289.csv',dtype={'CID':'str'})"
   ]
  },
  {
   "cell_type": "code",
   "execution_count": 35,
   "metadata": {},
   "outputs": [],
   "source": [
    "false_positive_cid = list(set(active_2289['CID']) & set(active_588342['CID']))"
   ]
  },
  {
   "cell_type": "code",
   "execution_count": 36,
   "metadata": {},
   "outputs": [
    {
     "data": {
      "text/plain": [
       "2399"
      ]
     },
     "execution_count": 36,
     "metadata": {},
     "output_type": "execute_result"
    }
   ],
   "source": [
    "len(false_positive_cid)"
   ]
  },
  {
   "cell_type": "code",
   "execution_count": 37,
   "metadata": {},
   "outputs": [],
   "source": [
    "# only one file contains active cases\n",
    "molecule_matrix = pd.read_csv(molecule_descriptor_files[9],dtype={'CID':'str','SID':'str'})\n",
    "features = molecule_matrix.columns[2:181] # feature names except the molecule ID"
   ]
  },
  {
   "cell_type": "code",
   "execution_count": 38,
   "metadata": {},
   "outputs": [],
   "source": [
    "filterout_index = []\n",
    "for idx in range(molecule_matrix.shape[0]):\n",
    "    cid = molecule_matrix.iloc[idx,:]['CID']\n",
    "    if cid in false_positive_cid:\n",
    "        filterout_index.append(idx)"
   ]
  },
  {
   "cell_type": "code",
   "execution_count": 39,
   "metadata": {},
   "outputs": [],
   "source": [
    "ind = np.ones(molecule_matrix.shape[0]).astype('bool')\n",
    "ind[filterout_index] = False\n",
    "molecule_matrix = molecule_matrix.iloc[ind,:]\n",
    "molecule_matrix = np.array(molecule_matrix)"
   ]
  },
  {
   "cell_type": "code",
   "execution_count": 40,
   "metadata": {},
   "outputs": [],
   "source": [
    "for file in molecule_descriptor_files[:9]:\n",
    "    f = pd.read_csv(file,dtype={'CID':'str','SID':'str'})\n",
    "    f = np.array(f.dropna(axis=0)) # drop rows with NA \n",
    "    molecule_matrix = np.vstack((molecule_matrix,f))"
   ]
  },
  {
   "cell_type": "code",
   "execution_count": 41,
   "metadata": {},
   "outputs": [],
   "source": [
    "label = molecule_matrix[:,molecule_matrix.shape[1]-1]\n",
    "label[label=='active']=1\n",
    "label[label=='inactive']=0\n",
    "label = label.astype(int)"
   ]
  },
  {
   "cell_type": "code",
   "execution_count": 42,
   "metadata": {},
   "outputs": [
    {
     "name": "stdout",
     "output_type": "stream",
     "text": [
      "Counter({0: 304501, 1: 884})\n"
     ]
    }
   ],
   "source": [
    "print(Counter(label))"
   ]
  },
  {
   "cell_type": "code",
   "execution_count": 43,
   "metadata": {},
   "outputs": [],
   "source": [
    "moleculeCID = molecule_matrix[:,0]"
   ]
  },
  {
   "cell_type": "markdown",
   "metadata": {},
   "source": [
    "#### Construct the whole matrix"
   ]
  },
  {
   "cell_type": "code",
   "execution_count": 44,
   "metadata": {},
   "outputs": [],
   "source": [
    "molecule_matrix = molecule_matrix[:,2:181]"
   ]
  },
  {
   "cell_type": "code",
   "execution_count": 45,
   "metadata": {},
   "outputs": [
    {
     "data": {
      "text/plain": [
       "(305385, 179)"
      ]
     },
     "execution_count": 45,
     "metadata": {},
     "output_type": "execute_result"
    }
   ],
   "source": [
    "molecule_matrix.shape"
   ]
  },
  {
   "cell_type": "code",
   "execution_count": 46,
   "metadata": {},
   "outputs": [],
   "source": [
    "molecule_matrix = molecule_matrix.astype('float')"
   ]
  },
  {
   "cell_type": "code",
   "execution_count": 47,
   "metadata": {},
   "outputs": [
    {
     "name": "stdout",
     "output_type": "stream",
     "text": [
      "Number of molecule ID: 305385\n",
      "Number of label: 305385\n",
      "Number of features: 179\n",
      "Shape: (305385, 179)\n"
     ]
    }
   ],
   "source": [
    "print('Number of molecule ID:',len(moleculeCID))\n",
    "print('Number of label:',len(label))\n",
    "print('Number of features:',len(features))\n",
    "print('Shape:',molecule_matrix.shape)"
   ]
  },
  {
   "cell_type": "markdown",
   "metadata": {},
   "source": [
    "#### Remove attributes of no variation"
   ]
  },
  {
   "cell_type": "code",
   "execution_count": 48,
   "metadata": {},
   "outputs": [],
   "source": [
    "remove_col = []\n",
    "for col in range(molecule_matrix.shape[1]):\n",
    "    temp_sum = np.sum(molecule_matrix[:,col])\n",
    "    if temp_sum == 0 or temp_sum == molecule_matrix.shape[0]:\n",
    "        remove_col.append(col)"
   ]
  },
  {
   "cell_type": "code",
   "execution_count": 49,
   "metadata": {},
   "outputs": [],
   "source": [
    "remove = np.ones(molecule_matrix.shape[1]).astype('bool')\n",
    "remove[np.array(remove_col)] = False\n",
    "molecule_matrix = molecule_matrix[:,remove]"
   ]
  },
  {
   "cell_type": "code",
   "execution_count": 50,
   "metadata": {},
   "outputs": [
    {
     "name": "stdout",
     "output_type": "stream",
     "text": [
      "After removing attributes without any variation: (305385, 158)\n"
     ]
    }
   ],
   "source": [
    "print('After removing attributes without any variation:', molecule_matrix.shape)"
   ]
  },
  {
   "cell_type": "code",
   "execution_count": 51,
   "metadata": {},
   "outputs": [
    {
     "name": "stdout",
     "output_type": "stream",
     "text": [
      "Matrix's shape: (305385, 158)\n",
      "Length of label: 305385\n",
      "Length of molecule ID: 305385\n"
     ]
    }
   ],
   "source": [
    "print('Matrix\\'s shape:', molecule_matrix.shape)\n",
    "print('Length of label:',len(label))\n",
    "print('Length of molecule ID:', len(moleculeCID))"
   ]
  },
  {
   "cell_type": "code",
   "execution_count": 29,
   "metadata": {},
   "outputs": [],
   "source": [
    "molecule_matrix = pd.DataFrame(molecule_matrix)\n",
    "molecule_matrix.to_csv('Molecule_Matrix.csv',index_label=False)"
   ]
  },
  {
   "cell_type": "code",
   "execution_count": 31,
   "metadata": {},
   "outputs": [],
   "source": [
    "label = pd.DataFrame(label)\n",
    "label.to_csv('label.csv', index_label = False)\n",
    "moleculeCID = pd.DataFrame(moleculeCID)\n",
    "moleculeCID.to_csv('moleculeCID.csv',index_label = False)"
   ]
  }
 ],
 "metadata": {
  "kernelspec": {
   "display_name": "Python 3",
   "language": "python",
   "name": "python3"
  },
  "language_info": {
   "codemirror_mode": {
    "name": "ipython",
    "version": 3
   },
   "file_extension": ".py",
   "mimetype": "text/x-python",
   "name": "python",
   "nbconvert_exporter": "python",
   "pygments_lexer": "ipython3",
   "version": "3.5.2"
  }
 },
 "nbformat": 4,
 "nbformat_minor": 2
}
