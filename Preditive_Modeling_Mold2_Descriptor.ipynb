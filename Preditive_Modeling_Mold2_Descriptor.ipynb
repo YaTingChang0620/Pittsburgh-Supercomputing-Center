{
 "cells": [
  {
   "cell_type": "code",
   "execution_count": 1,
   "metadata": {},
   "outputs": [],
   "source": [
    "from sklearn.decomposition import PCA\n",
    "from sklearn.model_selection import train_test_split\n",
    "from imblearn.under_sampling import RandomUnderSampler\n",
    "from sklearn.metrics import confusion_matrix\n",
    "from sklearn.metrics import accuracy_score\n",
    "from collections import Counter\n",
    "import pandas as pd\n",
    "import numpy as np\n",
    "import xgboost as xgb"
   ]
  },
  {
   "cell_type": "code",
   "execution_count": 2,
   "metadata": {},
   "outputs": [],
   "source": [
    "molecule_matrix = pd.read_csv('./Dataset/Molecule_matrix_mold2.csv',dtype={'CID':'str'})"
   ]
  },
  {
   "cell_type": "code",
   "execution_count": 19,
   "metadata": {},
   "outputs": [],
   "source": [
    "CID = np.array(molecule_matrix['CID'])\n",
    "label = np.array(molecule_matrix['outcome'])\n",
    "molecule_matrix_ = np.array(molecule_matrix.iloc[:,1:molecule_matrix.shape[1]-1])"
   ]
  },
  {
   "cell_type": "code",
   "execution_count": null,
   "metadata": {},
   "outputs": [],
   "source": [
    "label[label=='active']=1\n",
    "label[label=='inactive']=0\n",
    "label = label.astype('int')"
   ]
  },
  {
   "cell_type": "code",
   "execution_count": 4,
   "metadata": {},
   "outputs": [
    {
     "name": "stdout",
     "output_type": "stream",
     "text": [
      "(302630, 648)\n",
      "Counter({'inactive': 301747, 'active': 883})\n"
     ]
    }
   ],
   "source": [
    "print(molecule_matrix_.shape)\n",
    "print(Counter(label))"
   ]
  },
  {
   "cell_type": "markdown",
   "metadata": {},
   "source": [
    "#### Bagging"
   ]
  },
  {
   "cell_type": "code",
   "execution_count": 24,
   "metadata": {},
   "outputs": [],
   "source": [
    "x_train,x_test,y_train,y_test = train_test_split(molecule_matrix_,label,test_size = 0.2)"
   ]
  },
  {
   "cell_type": "code",
   "execution_count": 23,
   "metadata": {},
   "outputs": [],
   "source": [
    "def xgboost_bagging(matrix,label,n_estimator,neg):\n",
    "    boost = []\n",
    "    for i in range(n_estimator):\n",
    "        pos = np.sum(label==1)\n",
    "        ratio = {0:neg,1:pos}\n",
    "        rus = RandomUnderSampler(ratio=ratio)\n",
    "        x_resample,y_resample = rus.fit_sample(matrix,label)\n",
    "        \n",
    "        train = xgb.DMatrix(x_resample,y_resample)\n",
    "        \n",
    "        scale = float(np.sum(y_resample==1)/np.sum(y_resample==0))\n",
    "        param = {'gamma':0.8,'max_depth':6,'objective':'binary:logistic','eval_metric':'auc','eta':0.8,'scale_pos_weight':scale}\n",
    "        num_round = 20\n",
    "        \n",
    "        bst = xgb.train(params=param, dtrain=train,num_boost_round=num_round)\n",
    "        boost.append(bst)  \n",
    "    return boost"
   ]
  },
  {
   "cell_type": "code",
   "execution_count": null,
   "metadata": {},
   "outputs": [],
   "source": [
    "def predict(estimators, x_test,y_test):\n",
    "    final_pred = []\n",
    "    x_test = xgb.DMatrix(x_test,y_test)\n",
    "    \n",
    "    for est in estimators:\n",
    "        pred = est.predict(x_test)\n",
    "        pred_ = [1 if i>0.4 else 0 for i in pred]\n",
    "        final_pred.append(pred_)"
   ]
  },
  {
   "cell_type": "markdown",
   "metadata": {},
   "source": [
    "#### XGBoost"
   ]
  },
  {
   "cell_type": "code",
   "execution_count": 27,
   "metadata": {},
   "outputs": [],
   "source": [
    "# confusion_matrix(y_true=label,y_pred=preds_)"
   ]
  },
  {
   "cell_type": "code",
   "execution_count": 113,
   "metadata": {},
   "outputs": [],
   "source": [
    "# tn,fp,fn,tp = confusion_matrix(y_true=label,y_pred=preds_).ravel()"
   ]
  },
  {
   "cell_type": "code",
   "execution_count": 26,
   "metadata": {},
   "outputs": [],
   "source": [
    "# print('Precision=', tp/(tp+fp))\n",
    "# print('Recall:',tp/(tp+fn))\n",
    "# print('False negative:',fn/(tp+fn))"
   ]
  }
 ],
 "metadata": {
  "kernelspec": {
   "display_name": "Python 3",
   "language": "python",
   "name": "python3"
  },
  "language_info": {
   "codemirror_mode": {
    "name": "ipython",
    "version": 3
   },
   "file_extension": ".py",
   "mimetype": "text/x-python",
   "name": "python",
   "nbconvert_exporter": "python",
   "pygments_lexer": "ipython3",
   "version": "3.5.2"
  }
 },
 "nbformat": 4,
 "nbformat_minor": 2
}
