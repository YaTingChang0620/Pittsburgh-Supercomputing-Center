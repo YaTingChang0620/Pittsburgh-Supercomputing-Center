{
 "cells": [
  {
   "cell_type": "markdown",
   "metadata": {},
   "source": [
    "##### Source:\n",
    "imblearn Documentation\n",
    "- https://github.com/scikit-learn-contrib/imbalanced-learn \n",
    "- http://scikit-learn.org/stable/auto_examples/model_selection/plot_precision_recall.html"
   ]
  },
  {
   "cell_type": "code",
   "execution_count": 1,
   "metadata": {},
   "outputs": [],
   "source": [
    "import zipfile\n",
    "import pandas as pd\n",
    "import numpy as np\n",
    "import glob\n",
    "from scipy import sparse\n",
    "from sklearn.model_selection import train_test_split\n",
    "from collections import Counter\n",
    "from sklearn.ensemble import RandomForestClassifier\n",
    "from sklearn.ensemble import GradientBoostingClassifier\n",
    "from sklearn.model_selection import KFold\n",
    "from sklearn.svm import SVC\n",
    "from sklearn.metrics import accuracy_score\n",
    "from sklearn.metrics import precision_score\n",
    "from sklearn.metrics import confusion_matrix\n",
    "import matplotlib.pyplot as plt\n",
    "from tempfile import TemporaryFile\n",
    "%matplotlib inline"
   ]
  },
  {
   "cell_type": "code",
   "execution_count": 2,
   "metadata": {},
   "outputs": [],
   "source": [
    "molecule_descriptor_files = []\n",
    "for file in glob.glob('./Dataset/AID_2289_descriptors_part[0-9]*.csv'):\n",
    "    molecule_descriptor_files.append(file)"
   ]
  },
  {
   "cell_type": "markdown",
   "metadata": {},
   "source": [
    "### Drug Bank"
   ]
  },
  {
   "cell_type": "code",
   "execution_count": 3,
   "metadata": {},
   "outputs": [],
   "source": [
    "# drug_link = pd.read_csv('./Dataset/drug_links.csv',dtype={'PubChem Compound ID':'str'})"
   ]
  },
  {
   "cell_type": "code",
   "execution_count": 4,
   "metadata": {},
   "outputs": [],
   "source": [
    "# drug_link = drug_link.dropna(subset=['PubChem Compound ID'])"
   ]
  },
  {
   "cell_type": "code",
   "execution_count": 5,
   "metadata": {},
   "outputs": [],
   "source": [
    "# drug_map = dict(zip(drug_link['PubChem Compound ID'],drug_link['Name']))"
   ]
  },
  {
   "cell_type": "markdown",
   "metadata": {},
   "source": [
    "### Prepare training data"
   ]
  },
  {
   "cell_type": "markdown",
   "metadata": {},
   "source": [
    "#### Use counter-screen (AID: 588342) to filter out false positive"
   ]
  },
  {
   "cell_type": "markdown",
   "metadata": {},
   "source": [
    "Counter-screen: A screen performed in parallel with or after the primary screen. The assay used in the counter-screen is developed to identify compounds that have the potential to interfere with the assay used in the primary screen (the primary assay)."
   ]
  },
  {
   "cell_type": "markdown",
   "metadata": {},
   "source": [
    "- Identify the overlapping CID between 588342 active and 2289 active: 2,399 molecules"
   ]
  },
  {
   "cell_type": "code",
   "execution_count": 6,
   "metadata": {},
   "outputs": [],
   "source": [
    "active_588342 = pd.read_csv('./Dataset/active_588342.csv',dtype={'CID':'str'})\n",
    "active_2289 = pd.read_csv('./Dataset/active_2289.csv',dtype={'CID':'str'})"
   ]
  },
  {
   "cell_type": "code",
   "execution_count": 7,
   "metadata": {},
   "outputs": [],
   "source": [
    "false_positive_cid = list(set(active_2289['CID']) & set(active_588342['CID']))"
   ]
  },
  {
   "cell_type": "code",
   "execution_count": 8,
   "metadata": {},
   "outputs": [
    {
     "data": {
      "text/plain": [
       "2399"
      ]
     },
     "execution_count": 8,
     "metadata": {},
     "output_type": "execute_result"
    }
   ],
   "source": [
    "len(false_positive_cid)"
   ]
  },
  {
   "cell_type": "code",
   "execution_count": 9,
   "metadata": {},
   "outputs": [],
   "source": [
    "# false_positive_cid_2 = list(set(active_2289['CID']) & set(inactive_588342['CID']))\n",
    "# len(false_positive_cid_2)"
   ]
  },
  {
   "cell_type": "code",
   "execution_count": 10,
   "metadata": {},
   "outputs": [],
   "source": [
    "# only first file contains active cases\n",
    "molecule_matrix = pd.read_csv(molecule_descriptor_files[9],dtype={'CID':'str','SID':'str'})\n",
    "features = molecule_matrix.columns[2:181] # feature names except the first column (molecule ID)\n",
    "# molecule_matrix = np.array(molecule_matrix.dropna(axis=0))"
   ]
  },
  {
   "cell_type": "code",
   "execution_count": 11,
   "metadata": {},
   "outputs": [],
   "source": [
    "filterout_index = []\n",
    "for idx in range(molecule_matrix.shape[0]):\n",
    "    cid = molecule_matrix.iloc[idx,:]['CID']\n",
    "    if cid in false_positive_cid:\n",
    "        filterout_index.append(idx)"
   ]
  },
  {
   "cell_type": "code",
   "execution_count": 12,
   "metadata": {},
   "outputs": [],
   "source": [
    "ind = np.ones(molecule_matrix.shape[0]).astype('bool')\n",
    "ind[filterout_index] = False\n",
    "molecule_matrix = molecule_matrix.iloc[ind,:]\n",
    "molecule_matrix = np.array(molecule_matrix)"
   ]
  },
  {
   "cell_type": "code",
   "execution_count": 13,
   "metadata": {},
   "outputs": [],
   "source": [
    "for file in molecule_descriptor_files[:9]:\n",
    "    f = pd.read_csv(file,dtype={'CID':'str','SID':'str'})\n",
    "    f = np.array(f.dropna(axis=0)) # drop rows with NA \n",
    "    molecule_matrix = np.vstack((molecule_matrix,f))"
   ]
  },
  {
   "cell_type": "code",
   "execution_count": 14,
   "metadata": {},
   "outputs": [],
   "source": [
    "label = molecule_matrix[:,molecule_matrix.shape[1]-1]\n",
    "label[label=='active']=1\n",
    "label[label=='inactive']=0\n",
    "label = label.astype(int)"
   ]
  },
  {
   "cell_type": "code",
   "execution_count": 15,
   "metadata": {},
   "outputs": [
    {
     "name": "stdout",
     "output_type": "stream",
     "text": [
      "Counter({0: 304501, 1: 884})\n"
     ]
    }
   ],
   "source": [
    "print(Counter(label))"
   ]
  },
  {
   "cell_type": "code",
   "execution_count": 16,
   "metadata": {},
   "outputs": [],
   "source": [
    "moleculeCID = molecule_matrix[:,0]"
   ]
  },
  {
   "cell_type": "markdown",
   "metadata": {},
   "source": [
    "#### Construct the whole matrix"
   ]
  },
  {
   "cell_type": "code",
   "execution_count": 17,
   "metadata": {},
   "outputs": [
    {
     "data": {
      "text/plain": [
       "array([['329167', '843278', 0, ..., 0, 1, 1],\n",
       "       ['421162', '844850', 0, ..., 1, 1, 1],\n",
       "       ['647744', '845402', 0, ..., 0, 0, 1],\n",
       "       ..., \n",
       "       ['2912871', '7978128', 0, ..., 0, 2, 0],\n",
       "       ['740861', '7978129', 0, ..., 0, 1, 0],\n",
       "       ['5402140', '7978130', 0, ..., 0, 3, 0]], dtype=object)"
      ]
     },
     "execution_count": 17,
     "metadata": {},
     "output_type": "execute_result"
    }
   ],
   "source": [
    "molecule_matrix"
   ]
  },
  {
   "cell_type": "code",
   "execution_count": 18,
   "metadata": {},
   "outputs": [],
   "source": [
    "molecule_matrix = molecule_matrix[:,2:181]"
   ]
  },
  {
   "cell_type": "code",
   "execution_count": 19,
   "metadata": {},
   "outputs": [
    {
     "data": {
      "text/plain": [
       "(305385, 179)"
      ]
     },
     "execution_count": 19,
     "metadata": {},
     "output_type": "execute_result"
    }
   ],
   "source": [
    "molecule_matrix.shape"
   ]
  },
  {
   "cell_type": "code",
   "execution_count": 20,
   "metadata": {},
   "outputs": [],
   "source": [
    "molecule_matrix = molecule_matrix.astype('float')"
   ]
  },
  {
   "cell_type": "code",
   "execution_count": 21,
   "metadata": {},
   "outputs": [
    {
     "name": "stdout",
     "output_type": "stream",
     "text": [
      "Number of molecule ID: 305385\n",
      "Number of label: 305385\n",
      "Number of features: 179\n",
      "Shape: (305385, 179)\n"
     ]
    }
   ],
   "source": [
    "print('Number of molecule ID:',len(moleculeCID))\n",
    "print('Number of label:',len(label))\n",
    "print('Number of features:',len(features))\n",
    "print('Shape:',molecule_matrix.shape)"
   ]
  },
  {
   "cell_type": "markdown",
   "metadata": {},
   "source": [
    "#### Remove attributes of no variation"
   ]
  },
  {
   "cell_type": "code",
   "execution_count": 22,
   "metadata": {},
   "outputs": [],
   "source": [
    "remove_col = []\n",
    "for col in range(molecule_matrix.shape[1]):\n",
    "    temp_sum = np.sum(molecule_matrix[:,col])\n",
    "    if temp_sum == 0 or temp_sum == molecule_matrix.shape[0]:\n",
    "        remove_col.append(col)"
   ]
  },
  {
   "cell_type": "code",
   "execution_count": 23,
   "metadata": {},
   "outputs": [],
   "source": [
    "remove = np.ones(molecule_matrix.shape[1]).astype('bool')\n",
    "remove[np.array(remove_col)] = False\n",
    "molecule_matrix = molecule_matrix[:,remove]"
   ]
  },
  {
   "cell_type": "code",
   "execution_count": 24,
   "metadata": {},
   "outputs": [
    {
     "name": "stdout",
     "output_type": "stream",
     "text": [
      "After removing attributes without any variation: (305385, 158)\n"
     ]
    }
   ],
   "source": [
    "print('After removing attributes without any variation:', molecule_matrix.shape)"
   ]
  },
  {
   "cell_type": "markdown",
   "metadata": {},
   "source": [
    "### Split the train and test data"
   ]
  },
  {
   "cell_type": "code",
   "execution_count": 25,
   "metadata": {},
   "outputs": [],
   "source": [
    "# x_train,x_test,y_train,y_test = train_test_split(molecule_matrix,label,test_size=0.2)"
   ]
  },
  {
   "cell_type": "code",
   "execution_count": 26,
   "metadata": {},
   "outputs": [],
   "source": [
    "# print(x_train.shape)\n",
    "# print(y_train.shape)\n",
    "# print(x_test.shape)\n",
    "# print(y_test.shape)"
   ]
  },
  {
   "cell_type": "code",
   "execution_count": 27,
   "metadata": {},
   "outputs": [],
   "source": [
    "# ytrain = dict(Counter(y_train))\n",
    "# ytest = dict(Counter(y_test))"
   ]
  },
  {
   "cell_type": "code",
   "execution_count": 28,
   "metadata": {},
   "outputs": [],
   "source": [
    "# print('active ratio in training:', ytrain[1]/(ytrain[0]+ytrain[1]))\n",
    "# print('active ratio in test:', ytest[1]/(ytest[0]+ytest[1]))"
   ]
  },
  {
   "cell_type": "code",
   "execution_count": 29,
   "metadata": {},
   "outputs": [],
   "source": [
    "# test_idx = np.random.permutation(molecule_matrix.shape[0])[:int(molecule_matrix.shape[0]*0.2)]\n",
    "# mask = np.ones(molecule_matrix.shape[0]).astype('bool')\n",
    "# mask[test_idx] = False\n",
    "# train = molecule_matrix[mask,:]\n",
    "# test = molecule_matrix[test_idx,:] "
   ]
  },
  {
   "cell_type": "code",
   "execution_count": 30,
   "metadata": {},
   "outputs": [],
   "source": [
    "# train_pd = pd.DataFrame(train)\n",
    "# test_pd = pd.DataFrame(test)"
   ]
  },
  {
   "cell_type": "code",
   "execution_count": 31,
   "metadata": {},
   "outputs": [],
   "source": [
    "# train_pd.to_csv('training.csv',index=False,index_label=False)\n",
    "# test_pd.to_csv('test.csv',index=False,index_label=False)"
   ]
  },
  {
   "cell_type": "markdown",
   "metadata": {},
   "source": [
    "#### Export files for cost sensitive classifier"
   ]
  },
  {
   "cell_type": "code",
   "execution_count": 32,
   "metadata": {},
   "outputs": [],
   "source": [
    "# import csv2arff"
   ]
  },
  {
   "cell_type": "code",
   "execution_count": 33,
   "metadata": {},
   "outputs": [],
   "source": [
    "# %%bash\n",
    "# csv2arff training.csv training.arff\n",
    "# csv2arff test.csv test.arff\n",
    "# np.save('molecule_matrix.npy',molecule_matrix)\n",
    "# np.save('label.npy',label)\n",
    "# np.save('molecule_CID',moleculeCID)\n",
    "# np.save('feature',features)"
   ]
  },
  {
   "cell_type": "markdown",
   "metadata": {},
   "source": [
    "### Handling the imbalance"
   ]
  },
  {
   "cell_type": "markdown",
   "metadata": {},
   "source": [
    "##### 1). Under-sampling: Random majority under-sampling with replacement"
   ]
  },
  {
   "cell_type": "code",
   "execution_count": 34,
   "metadata": {},
   "outputs": [
    {
     "name": "stdout",
     "output_type": "stream",
     "text": [
      "CPU times: user 1.49 s, sys: 151 ms, total: 1.64 s\n",
      "Wall time: 2.71 s\n"
     ]
    }
   ],
   "source": [
    "%%time\n",
    "from imblearn.under_sampling import RandomUnderSampler\n",
    "\n",
    "ratio = {0:1000,1:884}\n",
    "molecule_matrix = sparse.csr_matrix(molecule_matrix)\n",
    "undersam = RandomUnderSampler(ratio=ratio,return_indices=True)\n",
    "X_resample,y_resample, idx_resample = undersam.fit_sample(molecule_matrix,label)"
   ]
  },
  {
   "cell_type": "code",
   "execution_count": 41,
   "metadata": {},
   "outputs": [],
   "source": [
    "x_train,x_test,y_train,y_test = train_test_split(X_resample,y_resample)"
   ]
  },
  {
   "cell_type": "code",
   "execution_count": 42,
   "metadata": {},
   "outputs": [
    {
     "name": "stdout",
     "output_type": "stream",
     "text": [
      "Counter({0: 753, 1: 660})\n",
      "Counter({0: 241, 1: 230})\n"
     ]
    }
   ],
   "source": [
    "print(Counter(y_train))\n",
    "print(Counter(ytest))"
   ]
  },
  {
   "cell_type": "markdown",
   "metadata": {},
   "source": [
    "### Random Forest Classifier"
   ]
  },
  {
   "cell_type": "code",
   "execution_count": 43,
   "metadata": {},
   "outputs": [
    {
     "name": "stdout",
     "output_type": "stream",
     "text": [
      "N_tree:  10 cross validation accuracy: 0.513146881187\n",
      "N_tree:  60 cross validation accuracy: 0.522329148184\n",
      "N_tree:  110 cross validation accuracy: 0.533639074756\n",
      "N_tree:  160 cross validation accuracy: 0.523735057514\n",
      "N_tree:  210 cross validation accuracy: 0.532939879207\n",
      "N_tree:  260 cross validation accuracy: 0.518775530662\n",
      "N_tree:  310 cross validation accuracy: 0.531513921259\n",
      "N_tree:  360 cross validation accuracy: 0.52869207829\n",
      "N_tree:  410 cross validation accuracy: 0.5209182267\n",
      "N_tree:  460 cross validation accuracy: 0.534335764228\n",
      "Best N_tree:  460 ; cross-validation accuracy:  0.534335764228\n"
     ]
    }
   ],
   "source": [
    "highest_cross_val_accu = -1\n",
    "best_t = None\n",
    "indices = range(x_train.shape[0])\n",
    "tree = np.arange(10,500,50)\n",
    "kf = KFold(n_splits=5,shuffle=True,random_state=28584096)\n",
    "\n",
    "for n_tree in tree:\n",
    "    accuracies = []\n",
    "    for train_indices, val_indices in kf.split(indices):\n",
    "        x_tr = x_train[train_indices]\n",
    "        y_tr = y_train[train_indices]\n",
    "        cf = RandomForestClassifier(n_estimators=n_tree)\n",
    "        cf.fit(x_tr,y_tr)\n",
    "        pred = cf.predict(x_train[val_indices])\n",
    "        acc = accuracy_score(y_true=y_train[val_indices],y_pred=pred)\n",
    "        accuracies.append(acc)\n",
    "    cross_val_acc = np.mean(accuracies)\n",
    "    print('N_tree: ', n_tree, 'cross validation accuracy:', cross_val_acc)\n",
    "    if cross_val_acc > highest_cross_val_accu:\n",
    "        highest_cross_val_accu = cross_val_acc\n",
    "        best_t = n_tree\n",
    "print('Best N_tree: ',best_t, '; cross-validation accuracy: ',highest_cross_val_accu)"
   ]
  },
  {
   "cell_type": "code",
   "execution_count": 44,
   "metadata": {},
   "outputs": [
    {
     "name": "stdout",
     "output_type": "stream",
     "text": [
      "Test accuracy: 0.47983014862\n"
     ]
    }
   ],
   "source": [
    "rf_cv = RandomForestClassifier(n_estimators=best_t)\n",
    "rf_cv.fit(x_train,y_train)\n",
    "# pred_cv_train = rf_cv.predict(x_train)\n",
    "y_pred = rf_cv.predict(x_test)\n",
    "# print('Train accuracy:', accuracy_score(y_true=y_train,y_pred=pred_cv_train))\n",
    "print('Test accuracy:', accuracy_score(y_true=y_test,y_pred=y_pred))"
   ]
  },
  {
   "cell_type": "code",
   "execution_count": 45,
   "metadata": {},
   "outputs": [],
   "source": [
    "tn,fp,fn,tp = confusion_matrix(y_pred=y_pred,y_true=y_test).ravel()"
   ]
  },
  {
   "cell_type": "code",
   "execution_count": 46,
   "metadata": {},
   "outputs": [
    {
     "data": {
      "text/plain": [
       "array([[135, 112],\n",
       "       [133,  91]])"
      ]
     },
     "execution_count": 46,
     "metadata": {},
     "output_type": "execute_result"
    }
   ],
   "source": [
    "confusion_matrix(y_pred=y_pred,y_true=y_test)"
   ]
  },
  {
   "cell_type": "code",
   "execution_count": 47,
   "metadata": {},
   "outputs": [
    {
     "name": "stdout",
     "output_type": "stream",
     "text": [
      "Recall: 0.40625\n",
      "Precision: 0.448275862069\n"
     ]
    }
   ],
   "source": [
    "print('Recall:', tp/(tp+fn))\n",
    "print('Precision:', tp/(tp+fp))"
   ]
  },
  {
   "cell_type": "code",
   "execution_count": 48,
   "metadata": {},
   "outputs": [
    {
     "name": "stdout",
     "output_type": "stream",
     "text": [
      "False Positive Rate: 0.453441295547\n",
      "False Negative Rate: 0.59375\n"
     ]
    }
   ],
   "source": [
    "print('False Positive Rate:',fp/(fp+tn))\n",
    "# print('True Positive Rate:',tp/(tp+fn))\n",
    "print('False Negative Rate:',fn/(tp+fn))"
   ]
  },
  {
   "cell_type": "code",
   "execution_count": 76,
   "metadata": {},
   "outputs": [
    {
     "data": {
      "text/plain": [
       "Index(['HYP_07_HYP', 'WBN_GC_L_0.75', 'ARC_07_HYP', 'ARC_01_ARC',\n",
       "       'ARC_03_ARC'],\n",
       "      dtype='object')"
      ]
     },
     "execution_count": 76,
     "metadata": {},
     "output_type": "execute_result"
    }
   ],
   "source": [
    "features[np.argsort(rf_cv.feature_importances_)[::-1][:5]]"
   ]
  },
  {
   "cell_type": "markdown",
   "metadata": {},
   "source": [
    "### RF:  Drug Bank"
   ]
  },
  {
   "cell_type": "code",
   "execution_count": 47,
   "metadata": {},
   "outputs": [
    {
     "name": "stdout",
     "output_type": "stream",
     "text": [
      "(8722, 179)\n"
     ]
    }
   ],
   "source": [
    "drugbank = pd.read_csv('DrugBank_MV.csv',dtype={'Row':'str'})\n",
    "drugid = np.array(drugbank.iloc[:,0].dropna(axis=0))\n",
    "drugbank = drugbank.iloc[:,1:180]\n",
    "drugbank = np.array(drugbank.dropna(axis=0))\n",
    "print(drugbank.shape)"
   ]
  },
  {
   "cell_type": "code",
   "execution_count": 48,
   "metadata": {},
   "outputs": [
    {
     "name": "stdout",
     "output_type": "stream",
     "text": [
      "Counter({0: 8104, 1: 618})\n"
     ]
    }
   ],
   "source": [
    "drug_pred = rf_cv.predict(drugbank)\n",
    "print(Counter(drug_pred))\n",
    "# predicted active molucule\n",
    "drugid_rf = drugid[np.where(drug_pred==1)]"
   ]
  }
 ],
 "metadata": {
  "kernelspec": {
   "display_name": "Python 3",
   "language": "python",
   "name": "python3"
  },
  "language_info": {
   "codemirror_mode": {
    "name": "ipython",
    "version": 3
   },
   "file_extension": ".py",
   "mimetype": "text/x-python",
   "name": "python",
   "nbconvert_exporter": "python",
   "pygments_lexer": "ipython3",
   "version": "3.5.2"
  }
 },
 "nbformat": 4,
 "nbformat_minor": 2
}
