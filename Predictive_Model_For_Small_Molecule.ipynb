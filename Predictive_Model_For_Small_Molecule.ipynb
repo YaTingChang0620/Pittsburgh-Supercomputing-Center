{
 "cells": [
  {
   "cell_type": "markdown",
   "metadata": {},
   "source": [
    "##### Source:\n",
    "imblearn Documentation\n",
    "- https://github.com/scikit-learn-contrib/imbalanced-learn \n",
    "- http://scikit-learn.org/stable/auto_examples/model_selection/plot_precision_recall.html"
   ]
  },
  {
   "cell_type": "code",
   "execution_count": 2,
   "metadata": {},
   "outputs": [],
   "source": [
    "import zipfile\n",
    "import pandas as pd\n",
    "import numpy as np\n",
    "import glob\n",
    "from scipy import sparse\n",
    "from sklearn.model_selection import train_test_split\n",
    "from collections import Counter\n",
    "from sklearn.ensemble import RandomForestClassifier\n",
    "from sklearn.model_selection import KFold\n",
    "from sklearn.svm import SVC\n",
    "from sklearn.metrics import accuracy_score\n",
    "from sklearn.metrics import precision_score\n",
    "from sklearn.metrics import confusion_matrix\n",
    "import matplotlib.pyplot as plt\n",
    "%matplotlib inline"
   ]
  },
  {
   "cell_type": "code",
   "execution_count": 2,
   "metadata": {},
   "outputs": [],
   "source": [
    "# pubchem_zip = zipfile.ZipFile('PubChem.zip')\n",
    "# pubchem_zip.extractall('PubChem_Molecule_Descriptor')\n",
    "# pubchem_zip.close()"
   ]
  },
  {
   "cell_type": "code",
   "execution_count": 3,
   "metadata": {},
   "outputs": [],
   "source": [
    "molecule_descriptor_files = []\n",
    "for file in glob.glob('./Dataset/PubChem_Molecule_Descriptor/PubChem/AID_2289_descriptors_part[0-9]*.csv'):\n",
    "    molecule_descriptor_files.append(file)"
   ]
  },
  {
   "cell_type": "markdown",
   "metadata": {},
   "source": [
    "### Drug Bank"
   ]
  },
  {
   "cell_type": "code",
   "execution_count": 8,
   "metadata": {},
   "outputs": [],
   "source": [
    "drug_link = pd.read_csv('./Dataset/drug_links.csv',dtype={'PubChem Compound ID':'str'})"
   ]
  },
  {
   "cell_type": "code",
   "execution_count": 9,
   "metadata": {},
   "outputs": [],
   "source": [
    "drug_link = drug_link.dropna(subset=['PubChem Compound ID'])"
   ]
  },
  {
   "cell_type": "code",
   "execution_count": 10,
   "metadata": {},
   "outputs": [],
   "source": [
    "drug_map = dict(zip(drug_link['PubChem Compound ID'],drug_link['Name']))"
   ]
  },
  {
   "cell_type": "markdown",
   "metadata": {},
   "source": [
    "### Prepare training data"
   ]
  },
  {
   "cell_type": "code",
   "execution_count": 11,
   "metadata": {},
   "outputs": [
    {
     "name": "stdout",
     "output_type": "stream",
     "text": [
      "CPU times: user 6.92 s, sys: 1.21 s, total: 8.13 s\n",
      "Wall time: 8.79 s\n"
     ]
    }
   ],
   "source": [
    "%%time\n",
    "molecule_matrix = pd.read_csv(molecule_descriptor_files[0])\n",
    "features = molecule_matrix.columns[1:180] # feature names except the first column (molecule ID)\n",
    "molecule_matrix = molecule_matrix.iloc[:,1:180]\n",
    "molecule_matrix = np.array(molecule_matrix.dropna(axis=0))\n",
    "\n",
    "for file in molecule_descriptor_files[1:]:\n",
    "    f = pd.read_csv(file)\n",
    "    f = f.iloc[:,1:180] # the first column is molecule ID column\n",
    "    f = np.array(f.dropna(axis=0)) # drop rows with NA \n",
    "    molecule_matrix = np.vstack((molecule_matrix,f))"
   ]
  },
  {
   "cell_type": "code",
   "execution_count": 12,
   "metadata": {},
   "outputs": [
    {
     "data": {
      "text/plain": [
       "(307788, 179)"
      ]
     },
     "execution_count": 12,
     "metadata": {},
     "output_type": "execute_result"
    }
   ],
   "source": [
    "molecule_matrix.shape"
   ]
  },
  {
   "cell_type": "code",
   "execution_count": null,
   "metadata": {},
   "outputs": [],
   "source": []
  },
  {
   "cell_type": "markdown",
   "metadata": {},
   "source": [
    "### label"
   ]
  },
  {
   "cell_type": "code",
   "execution_count": 12,
   "metadata": {},
   "outputs": [],
   "source": [
    "ylabel = []\n",
    "for file in molecule_descriptor_files:\n",
    "    f = pd.read_csv(file)\n",
    "    f.columns = map(str.lower,f.columns)\n",
    "    for i in range(len(f['outcome'].dropna(axis=0))):\n",
    "        ylabel.append(f['outcome'][i])\n",
    "ylabel = np.array(ylabel)"
   ]
  },
  {
   "cell_type": "code",
   "execution_count": 13,
   "metadata": {},
   "outputs": [
    {
     "data": {
      "text/plain": [
       "(307788,)"
      ]
     },
     "execution_count": 13,
     "metadata": {},
     "output_type": "execute_result"
    }
   ],
   "source": [
    "ylabel.shape"
   ]
  },
  {
   "cell_type": "code",
   "execution_count": 14,
   "metadata": {},
   "outputs": [],
   "source": [
    "ylabel[np.where(ylabel=='active')] = 1\n",
    "ylabel[np.where(ylabel=='inactive')] = 0\n",
    "ylabel = ylabel.astype(int)"
   ]
  },
  {
   "cell_type": "code",
   "execution_count": 15,
   "metadata": {},
   "outputs": [
    {
     "data": {
      "text/plain": [
       "Counter({0: 304501, 1: 3287})"
      ]
     },
     "execution_count": 15,
     "metadata": {},
     "output_type": "execute_result"
    }
   ],
   "source": [
    "Counter(ylabel)"
   ]
  },
  {
   "cell_type": "markdown",
   "metadata": {},
   "source": [
    "### moleclue ID"
   ]
  },
  {
   "cell_type": "code",
   "execution_count": 16,
   "metadata": {},
   "outputs": [],
   "source": [
    "# Prepare for molecule ID\n",
    "moleculeID = []\n",
    "for file in molecule_descriptor_files:\n",
    "    f = pd.read_csv(file)\n",
    "    for i in range(len(f['Row'].dropna(axis=0))):\n",
    "        moleculeID.append(f['Row'][i])\n",
    "moleculeID = np.array(moleculeID)"
   ]
  },
  {
   "cell_type": "code",
   "execution_count": 17,
   "metadata": {},
   "outputs": [
    {
     "name": "stdout",
     "output_type": "stream",
     "text": [
      "(307788,)\n"
     ]
    }
   ],
   "source": [
    "print(moleculeID.shape)"
   ]
  },
  {
   "cell_type": "markdown",
   "metadata": {},
   "source": [
    "### Handling the imbalance"
   ]
  },
  {
   "cell_type": "markdown",
   "metadata": {},
   "source": [
    "##### 1). Under-sampling: Random majority under-sampling with replacement"
   ]
  },
  {
   "cell_type": "code",
   "execution_count": 62,
   "metadata": {},
   "outputs": [
    {
     "name": "stdout",
     "output_type": "stream",
     "text": [
      "CPU times: user 127 ms, sys: 12 ms, total: 139 ms\n",
      "Wall time: 137 ms\n"
     ]
    }
   ],
   "source": [
    "%%time\n",
    "from imblearn.under_sampling import RandomUnderSampler\n",
    "\n",
    "molecule_matrix = sparse.csr_matrix(molecule_matrix)\n",
    "\n",
    "ratio = {0:3287, 1:3287}\n",
    "undersam = RandomUnderSampler(ratio=ratio,return_indices=True)\n",
    "X_resample,y_resample, idx_resample = undersam.fit_sample(molecule_matrix,ylabel)\n",
    "\n",
    "# # under-sampling\n",
    "# # make use of k-means\n",
    "# # source: http://contrib.scikit-learn.org/imbalanced-learn/stable/under_sampling.html\n",
    "# from imblearn.under_sampling import ClusterCentroids\n",
    "# cc = ClusterCentroids(random_state=0)\n",
    "# X_resample, y_resample = cc.fit_sample(xtrain,y_train)\n",
    "# print(sorted(Counter(y_resample).items()))"
   ]
  },
  {
   "cell_type": "markdown",
   "metadata": {},
   "source": [
    "### Split the train and test"
   ]
  },
  {
   "cell_type": "code",
   "execution_count": 63,
   "metadata": {},
   "outputs": [
    {
     "data": {
      "text/plain": [
       "(6574, 179)"
      ]
     },
     "execution_count": 63,
     "metadata": {},
     "output_type": "execute_result"
    }
   ],
   "source": [
    "X_resample.shape"
   ]
  },
  {
   "cell_type": "code",
   "execution_count": 64,
   "metadata": {},
   "outputs": [],
   "source": [
    "x_train,x_test,y_train,y_test = train_test_split(X_resample,y_resample)"
   ]
  },
  {
   "cell_type": "code",
   "execution_count": 65,
   "metadata": {},
   "outputs": [
    {
     "name": "stdout",
     "output_type": "stream",
     "text": [
      "0.5010141987829615\n",
      "0.49695863746958635\n"
     ]
    }
   ],
   "source": [
    "# active class ratio\n",
    "y_tr = dict(Counter(y_train))\n",
    "print(y_tr[1]/(y_tr[0]+y_tr[1]))\n",
    "y_te = dict(Counter(y_test))\n",
    "print(y_te[1]/(y_te[0]+y_te[1]))"
   ]
  },
  {
   "cell_type": "markdown",
   "metadata": {},
   "source": [
    "### Random Forest Classifier"
   ]
  },
  {
   "cell_type": "code",
   "execution_count": 66,
   "metadata": {},
   "outputs": [
    {
     "name": "stdout",
     "output_type": "stream",
     "text": [
      "N_tree:  10 cross validation accuracy: 0.52860040568\n",
      "N_tree:  60 cross validation accuracy: 0.522718052738\n",
      "N_tree:  110 cross validation accuracy: 0.530020283976\n",
      "N_tree:  160 cross validation accuracy: 0.533671399594\n",
      "N_tree:  210 cross validation accuracy: 0.530425963489\n",
      "N_tree:  260 cross validation accuracy: 0.529006085193\n",
      "N_tree:  310 cross validation accuracy: 0.534888438134\n",
      "N_tree:  360 cross validation accuracy: 0.534482758621\n",
      "N_tree:  410 cross validation accuracy: 0.528194726166\n",
      "N_tree:  460 cross validation accuracy: 0.525963488844\n",
      "Best N_tree:  310 ; cross-validation accuracy:  0.534888438134\n"
     ]
    }
   ],
   "source": [
    "highest_cross_val_accu = -1\n",
    "best_t = None\n",
    "indices = range(x_train.shape[0])\n",
    "tree = np.arange(10,500,50)\n",
    "kf = KFold(n_splits=5,shuffle=True,random_state=28584096)\n",
    "\n",
    "for n_tree in tree:\n",
    "    accuracies = []\n",
    "    for train_indices, val_indices in kf.split(indices):\n",
    "        x_tr = x_train[train_indices]\n",
    "        y_tr = y_train[train_indices]\n",
    "        cf = RandomForestClassifier(n_estimators=n_tree)\n",
    "        cf.fit(x_tr,y_tr)\n",
    "        pred = cf.predict(x_train[val_indices])\n",
    "        acc = accuracy_score(y_true=y_train[val_indices],y_pred=pred)\n",
    "        accuracies.append(acc)\n",
    "    cross_val_acc = np.mean(accuracies)\n",
    "    print('N_tree: ', n_tree, 'cross validation accuracy:', cross_val_acc)\n",
    "    if cross_val_acc > highest_cross_val_accu:\n",
    "        highest_cross_val_accu = cross_val_acc\n",
    "        best_t = n_tree\n",
    "print('Best N_tree: ',best_t, '; cross-validation accuracy: ',highest_cross_val_accu)"
   ]
  },
  {
   "cell_type": "code",
   "execution_count": 67,
   "metadata": {},
   "outputs": [
    {
     "name": "stdout",
     "output_type": "stream",
     "text": [
      "Train accuracy: 0.999188640974\n",
      "Test accuracy: 0.53102189781\n"
     ]
    }
   ],
   "source": [
    "rf_cv = RandomForestClassifier(n_estimators=best_t)\n",
    "rf_cv.fit(x_train,y_train)\n",
    "pred_cv_train = rf_cv.predict(x_train)\n",
    "y_pred = rf_cv.predict(x_test)\n",
    "print('Train accuracy:', accuracy_score(y_true=y_train,y_pred=pred_cv_train))\n",
    "print('Test accuracy:', accuracy_score(y_true=y_test,y_pred=y_pred))"
   ]
  },
  {
   "cell_type": "code",
   "execution_count": 72,
   "metadata": {},
   "outputs": [],
   "source": [
    "tn,fp,fn,tp = confusion_matrix(y_pred=y_pred,y_true=y_test).ravel()"
   ]
  },
  {
   "cell_type": "code",
   "execution_count": 73,
   "metadata": {},
   "outputs": [
    {
     "data": {
      "text/plain": [
       "array([[458, 369],\n",
       "       [402, 415]])"
      ]
     },
     "execution_count": 73,
     "metadata": {},
     "output_type": "execute_result"
    }
   ],
   "source": [
    "confusion_matrix(y_pred=y_pred,y_true=y_test)"
   ]
  },
  {
   "cell_type": "code",
   "execution_count": 74,
   "metadata": {},
   "outputs": [
    {
     "name": "stdout",
     "output_type": "stream",
     "text": [
      "Recall: 0.507955936353\n",
      "Precision: 0.529336734694\n"
     ]
    }
   ],
   "source": [
    "print('Recall:', tp/(tp+fn))\n",
    "print('Precision:', tp/(tp+fp))"
   ]
  },
  {
   "cell_type": "code",
   "execution_count": 75,
   "metadata": {},
   "outputs": [
    {
     "data": {
      "text/plain": [
       "Index(['XLogP', 'MW', 'WBN_LP_H_0.25', 'PSA', 'WBN_GC_H_0.25'], dtype='object')"
      ]
     },
     "execution_count": 75,
     "metadata": {},
     "output_type": "execute_result"
    }
   ],
   "source": [
    "features[np.argsort(rf_cv.feature_importances_)[::-1][:5]]"
   ]
  },
  {
   "cell_type": "code",
   "execution_count": 31,
   "metadata": {},
   "outputs": [
    {
     "name": "stdout",
     "output_type": "stream",
     "text": [
      "/home/yating\n"
     ]
    }
   ],
   "source": [
    "# %%bash \n",
    "# pwd # print working directory "
   ]
  },
  {
   "cell_type": "markdown",
   "metadata": {},
   "source": [
    "### SVM"
   ]
  },
  {
   "cell_type": "code",
   "execution_count": 46,
   "metadata": {},
   "outputs": [
    {
     "name": "stdout",
     "output_type": "stream",
     "text": [
      "C: 1e-07  cross validation accuracy: 0.67362962963\n",
      "C: 1e-05  cross validation accuracy: 0.67362962963\n",
      "C: 0.001  cross validation accuracy: 0.67362962963\n",
      "C: 1  cross validation accuracy: 0.666518518519\n",
      "C: 10  cross validation accuracy: 0.618074074074\n",
      "C: 100  cross validation accuracy: 0.566074074074\n",
      "Best c: 1e-07 ; cross-validation accuracy: 0.67362962963\n"
     ]
    }
   ],
   "source": [
    "highest_cross_val_accu = -1\n",
    "best_c = None\n",
    "indices = range(x_train.shape[0])\n",
    "c = [1e-7,1e-5,1e-3,1,10,100]\n",
    "kf = KFold(n_splits=5, shuffle=True, random_state=28584096)\n",
    "\n",
    "for c_ in c:\n",
    "    accuracies = []\n",
    "    for train_indices, val_indices in kf.split(indices):\n",
    "        x_tr = x_train[train_indices]\n",
    "        y_tr = y_train[train_indices]\n",
    "        svm = SVC(kernel='rbf',C=c_)\n",
    "        svm.fit(x_tr,y_tr)\n",
    "        pred = svm.predict(x_train[val_indices])\n",
    "        acc = accuracy_score(y_pred=pred,y_true=y_train[val_indices])\n",
    "        accuracies.append(acc)\n",
    "    cross_val_acc = np.mean(accuracies)\n",
    "    print('C:', c_, ' cross validation accuracy:', cross_val_acc)\n",
    "    if cross_val_acc > highest_cross_val_accu:\n",
    "        highest_cross_val_accu = cross_val_acc\n",
    "        best_c = c_\n",
    "print('Best c:', best_c, '; cross-validation accuracy:',highest_cross_val_accu)"
   ]
  },
  {
   "cell_type": "markdown",
   "metadata": {},
   "source": [
    "### RF:  Drug Bank"
   ]
  },
  {
   "cell_type": "code",
   "execution_count": 47,
   "metadata": {},
   "outputs": [
    {
     "name": "stdout",
     "output_type": "stream",
     "text": [
      "(8722, 179)\n"
     ]
    }
   ],
   "source": [
    "drugbank = pd.read_csv('DrugBank_MV.csv',dtype={'Row':'str'})\n",
    "drugid = np.array(drugbank.iloc[:,0].dropna(axis=0))\n",
    "drugbank = drugbank.iloc[:,1:180]\n",
    "drugbank = np.array(drugbank.dropna(axis=0))\n",
    "print(drugbank.shape)"
   ]
  },
  {
   "cell_type": "code",
   "execution_count": 48,
   "metadata": {},
   "outputs": [
    {
     "name": "stdout",
     "output_type": "stream",
     "text": [
      "Counter({0: 8104, 1: 618})\n"
     ]
    }
   ],
   "source": [
    "drug_pred = rf_cv.predict(drugbank)\n",
    "print(Counter(drug_pred))\n",
    "# predicted active molucule\n",
    "drugid_rf = drugid[np.where(drug_pred==1)]"
   ]
  },
  {
   "cell_type": "markdown",
   "metadata": {},
   "source": [
    "### SVM:  Drug Bank"
   ]
  },
  {
   "cell_type": "code",
   "execution_count": 49,
   "metadata": {},
   "outputs": [
    {
     "name": "stdout",
     "output_type": "stream",
     "text": [
      "Counter({0: 6264, 1: 2458})\n"
     ]
    }
   ],
   "source": [
    "drug_pred_svm = svm.predict(drugbank)\n",
    "print(Counter(drug_pred_svm))\n",
    "drugid_svm = drugid[np.where(drug_pred_svm==1)]"
   ]
  },
  {
   "cell_type": "code",
   "execution_count": 57,
   "metadata": {},
   "outputs": [],
   "source": [
    "drug_name_rf = [drug_map[idx] for idx in drugid_rf]"
   ]
  },
  {
   "cell_type": "code",
   "execution_count": 58,
   "metadata": {},
   "outputs": [],
   "source": [
    "drug_name_svm = [drug_map[idx] for idx in drugid_svm]"
   ]
  },
  {
   "cell_type": "code",
   "execution_count": 59,
   "metadata": {},
   "outputs": [],
   "source": [
    "name = [set(drug_name_svm) & set(drug_name_rf)]"
   ]
  }
 ],
 "metadata": {
  "kernelspec": {
   "display_name": "Python 3",
   "language": "python",
   "name": "python3"
  },
  "language_info": {
   "codemirror_mode": {
    "name": "ipython",
    "version": 3
   },
   "file_extension": ".py",
   "mimetype": "text/x-python",
   "name": "python",
   "nbconvert_exporter": "python",
   "pygments_lexer": "ipython3",
   "version": "3.5.2"
  }
 },
 "nbformat": 4,
 "nbformat_minor": 2
}
