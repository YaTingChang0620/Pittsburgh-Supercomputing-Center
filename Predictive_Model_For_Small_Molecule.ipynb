{
 "cells": [
  {
   "cell_type": "markdown",
   "metadata": {},
   "source": [
    "##### Source:\n",
    "imblearn Documentation\n",
    "- https://github.com/scikit-learn-contrib/imbalanced-learn \n",
    "- http://scikit-learn.org/stable/auto_examples/model_selection/plot_precision_recall.html"
   ]
  },
  {
   "cell_type": "code",
   "execution_count": 1,
   "metadata": {},
   "outputs": [],
   "source": [
    "import zipfile\n",
    "import pandas as pd\n",
    "import numpy as np\n",
    "import glob\n",
    "from scipy import sparse\n",
    "from sklearn.model_selection import train_test_split\n",
    "from collections import Counter\n",
    "from sklearn.ensemble import RandomForestClassifier\n",
    "from sklearn.model_selection import KFold\n",
    "from sklearn.svm import SVC\n",
    "from sklearn.metrics import accuracy_score\n",
    "from sklearn.metrics import precision_score\n",
    "from sklearn.metrics import confusion_matrix\n",
    "import matplotlib.pyplot as plt\n",
    "%matplotlib inline"
   ]
  },
  {
   "cell_type": "code",
   "execution_count": 2,
   "metadata": {},
   "outputs": [],
   "source": [
    "molecule_descriptor_files = []\n",
    "for file in glob.glob('./Dataset/PubChem_Molecule_Descriptor/PubChem/AID_2289_descriptors_part[0-9]*.csv'):\n",
    "    molecule_descriptor_files.append(file)"
   ]
  },
  {
   "cell_type": "markdown",
   "metadata": {},
   "source": [
    "### Drug Bank"
   ]
  },
  {
   "cell_type": "code",
   "execution_count": 3,
   "metadata": {},
   "outputs": [],
   "source": [
    "drug_link = pd.read_csv('./Dataset/drug_links.csv',dtype={'PubChem Compound ID':'str'})"
   ]
  },
  {
   "cell_type": "code",
   "execution_count": 4,
   "metadata": {},
   "outputs": [],
   "source": [
    "drug_link = drug_link.dropna(subset=['PubChem Compound ID'])"
   ]
  },
  {
   "cell_type": "code",
   "execution_count": 5,
   "metadata": {},
   "outputs": [],
   "source": [
    "drug_map = dict(zip(drug_link['PubChem Compound ID'],drug_link['Name']))"
   ]
  },
  {
   "cell_type": "markdown",
   "metadata": {},
   "source": [
    "### Prepare training data"
   ]
  },
  {
   "cell_type": "markdown",
   "metadata": {},
   "source": [
    "#### Use counter-screen (AID: 588342) to filter out false positive"
   ]
  },
  {
   "cell_type": "markdown",
   "metadata": {},
   "source": [
    "Counter-screen: A screen performed in parallel with or after the primary screen. The assay used in the counter-screen is developed to identify compounds that have the potential to interfere with the assay used in the primary screen (the primary assay). Counter-screens can also be used to eliminate compounds that possess undesirable properties, for example, a counter-screen for cytotoxicity."
   ]
  },
  {
   "cell_type": "code",
   "execution_count": 116,
   "metadata": {},
   "outputs": [],
   "source": [
    "fp = pd.read_csv('./Dataset/AID_588342_descriptors_part1.csv',dtype={'Row':'str'})"
   ]
  },
  {
   "cell_type": "code",
   "execution_count": 117,
   "metadata": {},
   "outputs": [],
   "source": [
    "fp_id = fp.iloc[:,0]\n",
    "fp_id = fp_id[pd.notna(fp_id)]"
   ]
  },
  {
   "cell_type": "code",
   "execution_count": 118,
   "metadata": {},
   "outputs": [],
   "source": [
    "# only first file contains active molecule, filter out false positive first\n",
    "molecule_matrix = pd.read_csv(molecule_descriptor_files[0],dtype={'Row':'str'})\n",
    "features = molecule_matrix.columns[1:180] # feature names except the first column (molecule ID)"
   ]
  },
  {
   "cell_type": "code",
   "execution_count": 119,
   "metadata": {},
   "outputs": [],
   "source": [
    "# find five false positive molecules\n",
    "drop_idx = molecule_matrix[(molecule_matrix['outcome']=='active') & (molecule_matrix['Row'].isin(fp_id))].index\n",
    "molecule_matrix.drop(drop_idx,inplace=True)\n",
    "molecule_matrix = molecule_matrix.iloc[:,:181]\n",
    "molecule_matrix = np.array(molecule_matrix.dropna(axis=0))"
   ]
  },
  {
   "cell_type": "code",
   "execution_count": 120,
   "metadata": {},
   "outputs": [
    {
     "name": "stdout",
     "output_type": "stream",
     "text": [
      "CPU times: user 9.29 s, sys: 2.05 s, total: 11.3 s\n",
      "Wall time: 11.3 s\n"
     ]
    }
   ],
   "source": [
    "%%time\n",
    "for file in molecule_descriptor_files[1:]:\n",
    "    f = pd.read_csv(file,dtype={'Row':'str'})\n",
    "    f = f.iloc[:,:181] # the first column is molecule ID column\n",
    "    f = np.array(f.dropna(axis=0)) # drop rows with NA \n",
    "    molecule_matrix = np.vstack((molecule_matrix,f))"
   ]
  },
  {
   "cell_type": "code",
   "execution_count": 123,
   "metadata": {},
   "outputs": [],
   "source": [
    "label = molecule_matrix[:,molecule_matrix.shape[1]-1]"
   ]
  },
  {
   "cell_type": "code",
   "execution_count": 124,
   "metadata": {},
   "outputs": [],
   "source": [
    "moleculeID = molecule_matrix[:,0]"
   ]
  },
  {
   "cell_type": "code",
   "execution_count": 129,
   "metadata": {},
   "outputs": [],
   "source": [
    "molecule_matrix = molecule_matrix[:,1:180]"
   ]
  },
  {
   "cell_type": "code",
   "execution_count": 131,
   "metadata": {},
   "outputs": [
    {
     "name": "stdout",
     "output_type": "stream",
     "text": [
      "Number of molecule ID: 307783\n",
      "Number of label: 307783\n",
      "Shape: (307783, 179)\n"
     ]
    }
   ],
   "source": [
    "print('Number of molecule ID:',len(moleculeID))\n",
    "print('Number of label:',len(label))\n",
    "print('Shape:',molecule_matrix.shape)"
   ]
  },
  {
   "cell_type": "code",
   "execution_count": 136,
   "metadata": {},
   "outputs": [
    {
     "data": {
      "text/plain": [
       "Counter({'active': 3282, 'inactive': 304501})"
      ]
     },
     "execution_count": 136,
     "metadata": {},
     "output_type": "execute_result"
    }
   ],
   "source": [
    "Counter(label)"
   ]
  },
  {
   "cell_type": "markdown",
   "metadata": {},
   "source": [
    "### Handling the imbalance"
   ]
  },
  {
   "cell_type": "markdown",
   "metadata": {},
   "source": [
    "##### 1). Under-sampling: Random majority under-sampling with replacement"
   ]
  },
  {
   "cell_type": "code",
   "execution_count": 62,
   "metadata": {},
   "outputs": [
    {
     "name": "stdout",
     "output_type": "stream",
     "text": [
      "CPU times: user 127 ms, sys: 12 ms, total: 139 ms\n",
      "Wall time: 137 ms\n"
     ]
    }
   ],
   "source": [
    "%%time\n",
    "from imblearn.under_sampling import RandomUnderSampler\n",
    "\n",
    "molecule_matrix = sparse.csr_matrix(molecule_matrix)\n",
    "\n",
    "ratio = {0:3287, 1:3287}\n",
    "undersam = RandomUnderSampler(ratio=ratio,return_indices=True)\n",
    "X_resample,y_resample, idx_resample = undersam.fit_sample(molecule_matrix,ylabel)\n",
    "\n",
    "# # under-sampling\n",
    "# # make use of k-means\n",
    "# # source: http://contrib.scikit-learn.org/imbalanced-learn/stable/under_sampling.html\n",
    "# from imblearn.under_sampling import ClusterCentroids\n",
    "# cc = ClusterCentroids(random_state=0)\n",
    "# X_resample, y_resample = cc.fit_sample(xtrain,y_train)\n",
    "# print(sorted(Counter(y_resample).items()))"
   ]
  },
  {
   "cell_type": "markdown",
   "metadata": {},
   "source": [
    "### Split the train and test"
   ]
  },
  {
   "cell_type": "code",
   "execution_count": 63,
   "metadata": {},
   "outputs": [
    {
     "data": {
      "text/plain": [
       "(6574, 179)"
      ]
     },
     "execution_count": 63,
     "metadata": {},
     "output_type": "execute_result"
    }
   ],
   "source": [
    "X_resample.shape"
   ]
  },
  {
   "cell_type": "code",
   "execution_count": 64,
   "metadata": {},
   "outputs": [],
   "source": [
    "x_train,x_test,y_train,y_test = train_test_split(X_resample,y_resample)"
   ]
  },
  {
   "cell_type": "code",
   "execution_count": 65,
   "metadata": {},
   "outputs": [
    {
     "name": "stdout",
     "output_type": "stream",
     "text": [
      "0.5010141987829615\n",
      "0.49695863746958635\n"
     ]
    }
   ],
   "source": [
    "# active class ratio\n",
    "y_tr = dict(Counter(y_train))\n",
    "print(y_tr[1]/(y_tr[0]+y_tr[1]))\n",
    "y_te = dict(Counter(y_test))\n",
    "print(y_te[1]/(y_te[0]+y_te[1]))"
   ]
  },
  {
   "cell_type": "markdown",
   "metadata": {},
   "source": [
    "### Random Forest Classifier"
   ]
  },
  {
   "cell_type": "code",
   "execution_count": 66,
   "metadata": {},
   "outputs": [
    {
     "name": "stdout",
     "output_type": "stream",
     "text": [
      "N_tree:  10 cross validation accuracy: 0.52860040568\n",
      "N_tree:  60 cross validation accuracy: 0.522718052738\n",
      "N_tree:  110 cross validation accuracy: 0.530020283976\n",
      "N_tree:  160 cross validation accuracy: 0.533671399594\n",
      "N_tree:  210 cross validation accuracy: 0.530425963489\n",
      "N_tree:  260 cross validation accuracy: 0.529006085193\n",
      "N_tree:  310 cross validation accuracy: 0.534888438134\n",
      "N_tree:  360 cross validation accuracy: 0.534482758621\n",
      "N_tree:  410 cross validation accuracy: 0.528194726166\n",
      "N_tree:  460 cross validation accuracy: 0.525963488844\n",
      "Best N_tree:  310 ; cross-validation accuracy:  0.534888438134\n"
     ]
    }
   ],
   "source": [
    "highest_cross_val_accu = -1\n",
    "best_t = None\n",
    "indices = range(x_train.shape[0])\n",
    "tree = np.arange(10,500,50)\n",
    "kf = KFold(n_splits=5,shuffle=True,random_state=28584096)\n",
    "\n",
    "for n_tree in tree:\n",
    "    accuracies = []\n",
    "    for train_indices, val_indices in kf.split(indices):\n",
    "        x_tr = x_train[train_indices]\n",
    "        y_tr = y_train[train_indices]\n",
    "        cf = RandomForestClassifier(n_estimators=n_tree)\n",
    "        cf.fit(x_tr,y_tr)\n",
    "        pred = cf.predict(x_train[val_indices])\n",
    "        acc = accuracy_score(y_true=y_train[val_indices],y_pred=pred)\n",
    "        accuracies.append(acc)\n",
    "    cross_val_acc = np.mean(accuracies)\n",
    "    print('N_tree: ', n_tree, 'cross validation accuracy:', cross_val_acc)\n",
    "    if cross_val_acc > highest_cross_val_accu:\n",
    "        highest_cross_val_accu = cross_val_acc\n",
    "        best_t = n_tree\n",
    "print('Best N_tree: ',best_t, '; cross-validation accuracy: ',highest_cross_val_accu)"
   ]
  },
  {
   "cell_type": "code",
   "execution_count": 67,
   "metadata": {},
   "outputs": [
    {
     "name": "stdout",
     "output_type": "stream",
     "text": [
      "Train accuracy: 0.999188640974\n",
      "Test accuracy: 0.53102189781\n"
     ]
    }
   ],
   "source": [
    "rf_cv = RandomForestClassifier(n_estimators=best_t)\n",
    "rf_cv.fit(x_train,y_train)\n",
    "pred_cv_train = rf_cv.predict(x_train)\n",
    "y_pred = rf_cv.predict(x_test)\n",
    "print('Train accuracy:', accuracy_score(y_true=y_train,y_pred=pred_cv_train))\n",
    "print('Test accuracy:', accuracy_score(y_true=y_test,y_pred=y_pred))"
   ]
  },
  {
   "cell_type": "code",
   "execution_count": 72,
   "metadata": {},
   "outputs": [],
   "source": [
    "tn,fp,fn,tp = confusion_matrix(y_pred=y_pred,y_true=y_test).ravel()"
   ]
  },
  {
   "cell_type": "code",
   "execution_count": 73,
   "metadata": {},
   "outputs": [
    {
     "data": {
      "text/plain": [
       "array([[458, 369],\n",
       "       [402, 415]])"
      ]
     },
     "execution_count": 73,
     "metadata": {},
     "output_type": "execute_result"
    }
   ],
   "source": [
    "confusion_matrix(y_pred=y_pred,y_true=y_test)"
   ]
  },
  {
   "cell_type": "code",
   "execution_count": 74,
   "metadata": {},
   "outputs": [
    {
     "name": "stdout",
     "output_type": "stream",
     "text": [
      "Recall: 0.507955936353\n",
      "Precision: 0.529336734694\n"
     ]
    }
   ],
   "source": [
    "print('Recall:', tp/(tp+fn))\n",
    "print('Precision:', tp/(tp+fp))"
   ]
  },
  {
   "cell_type": "code",
   "execution_count": 75,
   "metadata": {},
   "outputs": [
    {
     "data": {
      "text/plain": [
       "Index(['XLogP', 'MW', 'WBN_LP_H_0.25', 'PSA', 'WBN_GC_H_0.25'], dtype='object')"
      ]
     },
     "execution_count": 75,
     "metadata": {},
     "output_type": "execute_result"
    }
   ],
   "source": [
    "features[np.argsort(rf_cv.feature_importances_)[::-1][:5]]"
   ]
  },
  {
   "cell_type": "code",
   "execution_count": 31,
   "metadata": {},
   "outputs": [
    {
     "name": "stdout",
     "output_type": "stream",
     "text": [
      "/home/yating\n"
     ]
    }
   ],
   "source": [
    "# %%bash \n",
    "# pwd # print working directory "
   ]
  },
  {
   "cell_type": "markdown",
   "metadata": {},
   "source": [
    "### SVM"
   ]
  },
  {
   "cell_type": "code",
   "execution_count": 46,
   "metadata": {},
   "outputs": [
    {
     "name": "stdout",
     "output_type": "stream",
     "text": [
      "C: 1e-07  cross validation accuracy: 0.67362962963\n",
      "C: 1e-05  cross validation accuracy: 0.67362962963\n",
      "C: 0.001  cross validation accuracy: 0.67362962963\n",
      "C: 1  cross validation accuracy: 0.666518518519\n",
      "C: 10  cross validation accuracy: 0.618074074074\n",
      "C: 100  cross validation accuracy: 0.566074074074\n",
      "Best c: 1e-07 ; cross-validation accuracy: 0.67362962963\n"
     ]
    }
   ],
   "source": [
    "highest_cross_val_accu = -1\n",
    "best_c = None\n",
    "indices = range(x_train.shape[0])\n",
    "c = [1e-7,1e-5,1e-3,1,10,100]\n",
    "kf = KFold(n_splits=5, shuffle=True, random_state=28584096)\n",
    "\n",
    "for c_ in c:\n",
    "    accuracies = []\n",
    "    for train_indices, val_indices in kf.split(indices):\n",
    "        x_tr = x_train[train_indices]\n",
    "        y_tr = y_train[train_indices]\n",
    "        svm = SVC(kernel='rbf',C=c_)\n",
    "        svm.fit(x_tr,y_tr)\n",
    "        pred = svm.predict(x_train[val_indices])\n",
    "        acc = accuracy_score(y_pred=pred,y_true=y_train[val_indices])\n",
    "        accuracies.append(acc)\n",
    "    cross_val_acc = np.mean(accuracies)\n",
    "    print('C:', c_, ' cross validation accuracy:', cross_val_acc)\n",
    "    if cross_val_acc > highest_cross_val_accu:\n",
    "        highest_cross_val_accu = cross_val_acc\n",
    "        best_c = c_\n",
    "print('Best c:', best_c, '; cross-validation accuracy:',highest_cross_val_accu)"
   ]
  },
  {
   "cell_type": "markdown",
   "metadata": {},
   "source": [
    "### RF:  Drug Bank"
   ]
  },
  {
   "cell_type": "code",
   "execution_count": 47,
   "metadata": {},
   "outputs": [
    {
     "name": "stdout",
     "output_type": "stream",
     "text": [
      "(8722, 179)\n"
     ]
    }
   ],
   "source": [
    "drugbank = pd.read_csv('DrugBank_MV.csv',dtype={'Row':'str'})\n",
    "drugid = np.array(drugbank.iloc[:,0].dropna(axis=0))\n",
    "drugbank = drugbank.iloc[:,1:180]\n",
    "drugbank = np.array(drugbank.dropna(axis=0))\n",
    "print(drugbank.shape)"
   ]
  },
  {
   "cell_type": "code",
   "execution_count": 48,
   "metadata": {},
   "outputs": [
    {
     "name": "stdout",
     "output_type": "stream",
     "text": [
      "Counter({0: 8104, 1: 618})\n"
     ]
    }
   ],
   "source": [
    "drug_pred = rf_cv.predict(drugbank)\n",
    "print(Counter(drug_pred))\n",
    "# predicted active molucule\n",
    "drugid_rf = drugid[np.where(drug_pred==1)]"
   ]
  },
  {
   "cell_type": "markdown",
   "metadata": {},
   "source": [
    "### SVM:  Drug Bank"
   ]
  },
  {
   "cell_type": "code",
   "execution_count": 49,
   "metadata": {},
   "outputs": [
    {
     "name": "stdout",
     "output_type": "stream",
     "text": [
      "Counter({0: 6264, 1: 2458})\n"
     ]
    }
   ],
   "source": [
    "drug_pred_svm = svm.predict(drugbank)\n",
    "print(Counter(drug_pred_svm))\n",
    "drugid_svm = drugid[np.where(drug_pred_svm==1)]"
   ]
  },
  {
   "cell_type": "code",
   "execution_count": 57,
   "metadata": {},
   "outputs": [],
   "source": [
    "drug_name_rf = [drug_map[idx] for idx in drugid_rf]"
   ]
  },
  {
   "cell_type": "code",
   "execution_count": 58,
   "metadata": {},
   "outputs": [],
   "source": [
    "drug_name_svm = [drug_map[idx] for idx in drugid_svm]"
   ]
  },
  {
   "cell_type": "code",
   "execution_count": 59,
   "metadata": {},
   "outputs": [],
   "source": [
    "name = [set(drug_name_svm) & set(drug_name_rf)]"
   ]
  }
 ],
 "metadata": {
  "kernelspec": {
   "display_name": "Python 3",
   "language": "python",
   "name": "python3"
  },
  "language_info": {
   "codemirror_mode": {
    "name": "ipython",
    "version": 3
   },
   "file_extension": ".py",
   "mimetype": "text/x-python",
   "name": "python",
   "nbconvert_exporter": "python",
   "pygments_lexer": "ipython3",
   "version": "3.5.2"
  }
 },
 "nbformat": 4,
 "nbformat_minor": 2
}
